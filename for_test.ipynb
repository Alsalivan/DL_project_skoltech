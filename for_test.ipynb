{
  "nbformat": 4,
  "nbformat_minor": 0,
  "metadata": {
    "colab": {
      "name": "for_test.ipynb",
      "provenance": [],
      "collapsed_sections": [],
      "toc_visible": true
    },
    "kernelspec": {
      "name": "python3",
      "display_name": "Python 3"
    },
    "accelerator": "GPU"
  },
  "cells": [
    {
      "cell_type": "markdown",
      "metadata": {
        "id": "KnxLJt_T44VB",
        "colab_type": "text"
      },
      "source": [
        "# Грузим данные и распаковываем"
      ]
    },
    {
      "cell_type": "code",
      "metadata": {
        "id": "Od2Oc61EyYvb",
        "colab_type": "code",
        "outputId": "4304c3e9-8372-4a3c-b446-c74a09ad1e5d",
        "colab": {
          "base_uri": "https://localhost:8080/",
          "height": 286
        }
      },
      "source": [
        "!mkdir data\n",
        "!wget https://s3.amazonaws.com/code2vec/data/java-small_data.tar.gz\n",
        "!tar -xvzf java-small_data.tar.gz\n",
        "!mv java-small data"
      ],
      "execution_count": 1,
      "outputs": [
        {
          "output_type": "stream",
          "text": [
            "--2020-06-02 15:11:16--  https://s3.amazonaws.com/code2vec/data/java-small_data.tar.gz\n",
            "Resolving s3.amazonaws.com (s3.amazonaws.com)... 52.216.248.30\n",
            "Connecting to s3.amazonaws.com (s3.amazonaws.com)|52.216.248.30|:443... connected.\n",
            "HTTP request sent, awaiting response... 200 OK\n",
            "Length: 382731969 (365M) [application/x-tar]\n",
            "Saving to: ‘java-small_data.tar.gz’\n",
            "\n",
            "java-small_data.tar 100%[===================>] 365.00M  32.0MB/s    in 12s     \n",
            "\n",
            "2020-06-02 15:11:29 (30.0 MB/s) - ‘java-small_data.tar.gz’ saved [382731969/382731969]\n",
            "\n",
            "java-small/\n",
            "java-small/java-small.dict.c2v\n",
            "java-small/java-small.train.c2v\n",
            "java-small/java-small.val.c2v\n",
            "java-small/java-small.test.c2v\n"
          ],
          "name": "stdout"
        }
      ]
    },
    {
      "cell_type": "markdown",
      "metadata": {
        "id": "N4QMIWS547iw",
        "colab_type": "text"
      },
      "source": [
        "# Качаем всё из нашего гита"
      ]
    },
    {
      "cell_type": "code",
      "metadata": {
        "id": "3qxHPdV7mh2L",
        "colab_type": "code",
        "colab": {}
      },
      "source": [
        "rm -rf DL_project_skoltech/"
      ],
      "execution_count": 0,
      "outputs": []
    },
    {
      "cell_type": "code",
      "metadata": {
        "id": "kC1kxjE9ybjl",
        "colab_type": "code",
        "outputId": "5145cfd8-ecd6-46fb-f81e-e026ef2f3bae",
        "colab": {
          "base_uri": "https://localhost:8080/",
          "height": 134
        }
      },
      "source": [
        "!git clone https://github.com/Vitaly-Protasov/DL_project_skoltech"
      ],
      "execution_count": 2,
      "outputs": [
        {
          "output_type": "stream",
          "text": [
            "Cloning into 'DL_project_skoltech'...\n",
            "remote: Enumerating objects: 119, done.\u001b[K\n",
            "remote: Counting objects: 100% (119/119), done.\u001b[K\n",
            "remote: Compressing objects: 100% (84/84), done.\u001b[K\n",
            "remote: Total 119 (delta 66), reused 84 (delta 34), pack-reused 0\u001b[K\n",
            "Receiving objects: 100% (119/119), 17.10 KiB | 8.55 MiB/s, done.\n",
            "Resolving deltas: 100% (66/66), done.\n"
          ],
          "name": "stdout"
        }
      ]
    },
    {
      "cell_type": "code",
      "metadata": {
        "id": "gvvd_VmP3uV6",
        "colab_type": "code",
        "outputId": "a6a71d4f-db5f-4ef4-8ac9-f11ab2b14b08",
        "colab": {
          "base_uri": "https://localhost:8080/",
          "height": 34
        }
      },
      "source": [
        "cd DL_project_skoltech/"
      ],
      "execution_count": 3,
      "outputs": [
        {
          "output_type": "stream",
          "text": [
            "/content/DL_project_skoltech\n"
          ],
          "name": "stdout"
        }
      ]
    },
    {
      "cell_type": "markdown",
      "metadata": {
        "id": "mECUxIi85Cg9",
        "colab_type": "text"
      },
      "source": [
        "# У нас пока 3 модуля, импортим их\n"
      ]
    },
    {
      "cell_type": "code",
      "metadata": {
        "id": "PK_PH-Wr0LAL",
        "colab_type": "code",
        "colab": {}
      },
      "source": [
        "import create_vocab\n",
        "import data_to_tensors\n",
        "import model_implementation\n",
        "from train import run_epoch, train\n",
        "\n",
        "import torch\n",
        "import torch.nn as nn\n",
        "import torch.nn.functional as F"
      ],
      "execution_count": 0,
      "outputs": []
    },
    {
      "cell_type": "markdown",
      "metadata": {
        "id": "-BiElxB55n7d",
        "colab_type": "text"
      },
      "source": [
        "# Т.к. данные их, то выглядит всё так: у нас 3 основных словаря: \n",
        "* словарь всех слов в листах\n",
        "* словарь всех путей(они уже хешированы и переведены в цифры)\n",
        "* словарь таргетов(названий методов)\n"
      ]
    },
    {
      "cell_type": "code",
      "metadata": {
        "id": "3BunJzhfZ_jd",
        "colab_type": "code",
        "colab": {}
      },
      "source": [
        "dict_path = '../data/java-small/java-small.dict.c2v'\n",
        "word2idx, path2idx, target2idx, idx2target = create_vocab.create_vocab(dict_path)"
      ],
      "execution_count": 0,
      "outputs": []
    },
    {
      "cell_type": "markdown",
      "metadata": {
        "id": "OUJ5hZCS_DnF",
        "colab_type": "text"
      },
      "source": [
        "* 1) data_iterator Возвращает по 100 батчей(размер можно поменять при вызове функции)\n",
        "* 2) снизу можете видеть как идёт обращение к данным, далее в модель подаются 3 вектора(соррри за такие названия, думаю по аргументам модели поймёте что на выходе)\n",
        "* 3) ну на выходе у нас code_vector и второй вектор - вероятностей распределения между всеми labels в target_vocab(словарь имен методов) "
      ]
    },
    {
      "cell_type": "code",
      "metadata": {
        "id": "WctOcjFevCYv",
        "colab_type": "code",
        "colab": {}
      },
      "source": [
        "path_for_train = '../data/java-small/java-small.train.c2v'\n",
        "train_iterator = data_to_tensors.DatasetBuilder(path_for_train, \n",
        "                                                    word2idx, \n",
        "                                                    path2idx, \n",
        "                                                    target2idx, batch_size = 10)\n",
        "\n",
        "path_for_val = '../data/java-small/java-small.val.c2v'\n",
        "val_iterator = data_to_tensors.DatasetBuilder(path_for_val, \n",
        "                                                    word2idx, \n",
        "                                                    path2idx, \n",
        "                                                    target2idx, batch_size = 100)"
      ],
      "execution_count": 0,
      "outputs": []
    },
    {
      "cell_type": "code",
      "metadata": {
        "id": "DGiy8Phzhk3w",
        "colab_type": "code",
        "colab": {}
      },
      "source": [
        "import torch\n",
        "import torch.nn as nn\n",
        "from torch.nn import functional as F\n",
        "from torch.utils.data import Dataset"
      ],
      "execution_count": 0,
      "outputs": []
    },
    {
      "cell_type": "code",
      "metadata": {
        "id": "LEPAGa9fiRNJ",
        "colab_type": "code",
        "colab": {
          "base_uri": "https://localhost:8080/",
          "height": 34
        },
        "outputId": "ea21b436-7616-434f-8d2f-654e480c9109"
      },
      "source": [
        "DEVICE = torch.device(\"cuda:0\" if torch.cuda.is_available() else \"cpu\")\n",
        "print(DEVICE)"
      ],
      "execution_count": 8,
      "outputs": [
        {
          "output_type": "stream",
          "text": [
            "cuda:0\n"
          ],
          "name": "stdout"
        }
      ]
    },
    {
      "cell_type": "code",
      "metadata": {
        "id": "R6cKLBitiSZF",
        "colab_type": "code",
        "colab": {}
      },
      "source": [
        "import random \n",
        "\n",
        "SEED = 1234\n",
        "random.seed(SEED)\n",
        "torch.manual_seed(SEED)\n",
        "torch.cuda.manual_seed(SEED)\n",
        "torch.backends.cudnn.deterministic = True"
      ],
      "execution_count": 0,
      "outputs": []
    },
    {
      "cell_type": "code",
      "metadata": {
        "id": "UUd5Yv3fmrBQ",
        "colab_type": "code",
        "colab": {}
      },
      "source": [
        "model = model_implementation.code2vec_model(values_vocab_size = len(word2idx), \n",
        "                             paths_vocab_size = len(path2idx), \n",
        "                             labels_num = len(target2idx))"
      ],
      "execution_count": 0,
      "outputs": []
    },
    {
      "cell_type": "code",
      "metadata": {
        "id": "CPVWRPDmmyUQ",
        "colab_type": "code",
        "colab": {
          "base_uri": "https://localhost:8080/",
          "height": 319
        },
        "outputId": "4d3f1cbe-f68d-4e3b-d339-c24bb82ef773"
      },
      "source": [
        "N_EPOCHS = 500\n",
        "LR = 1e-3\n",
        "\n",
        "optimizer = torch.optim.Adam(model.parameters(), lr=LR)\n",
        "criterion = nn.CrossEntropyLoss().to(DEVICE)\n",
        "\n",
        "list_train_loss, list_val_loss, list_train_precision, list_val_precision,list_train_recall, list_val_recall, list_train_f1, list_val_f1 = train(model = model, optimizer = optimizer,\n",
        "                                                                                                                                                criterion = criterion, train_loader = train_iterator,\n",
        "                                                                                                                                                val_loader = val_iterator,\n",
        "                                                                                                                                                epochs = N_EPOCHS, idx2target_vocab = idx2target, scheduler=None, checkpoint=True)"
      ],
      "execution_count": 0,
      "outputs": [
        {
          "output_type": "stream",
          "text": [
            "Epoch 1: train loss - 1.20371, validation loss - 0.1226\n",
            "\t precision - 0.00018, recall - 0.00051, f1_score - 0.00026\n",
            "----------------------------------------------------------------------\n",
            "Epoch 2: train loss - 1.1808, validation loss - 0.12266\n",
            "\t precision - 0.00018, recall - 0.00051, f1_score - 0.00026\n",
            "----------------------------------------------------------------------\n",
            "Epoch 3: train loss - 1.14553, validation loss - 0.12278\n",
            "\t precision - 0.00022, recall - 0.00058, f1_score - 0.00032\n",
            "----------------------------------------------------------------------\n",
            "Epoch 4: train loss - 1.11531, validation loss - 0.12302\n",
            "\t precision - 0.00014, recall - 0.00029, f1_score - 0.00019\n",
            "----------------------------------------------------------------------\n",
            "Epoch 5: train loss - 1.06946, validation loss - 0.12319\n",
            "\t precision - 0.00013, recall - 0.00022, f1_score - 0.00016\n",
            "----------------------------------------------------------------------\n",
            "Epoch 6: train loss - 1.02835, validation loss - 0.12319\n",
            "\t precision - 5e-05, recall - 7e-05, f1_score - 6e-05\n",
            "----------------------------------------------------------------------\n"
          ],
          "name": "stdout"
        }
      ]
    }
  ]
}