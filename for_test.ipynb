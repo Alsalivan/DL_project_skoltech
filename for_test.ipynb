{
  "nbformat": 4,
  "nbformat_minor": 0,
  "metadata": {
    "colab": {
      "name": "for_test.ipynb",
      "provenance": [],
      "collapsed_sections": []
    },
    "kernelspec": {
      "name": "python3",
      "display_name": "Python 3"
    },
    "accelerator": "GPU"
  },
  "cells": [
    {
      "cell_type": "code",
      "metadata": {
        "id": "Ms1tmZcz41iO",
        "colab_type": "code",
        "outputId": "5f68a7b0-2089-4ca4-bf50-f0c5882c5f51",
        "colab": {
          "base_uri": "https://localhost:8080/",
          "height": 255
        }
      },
      "source": [
        "# memory footprint support libraries/code\n",
        "!ln -sf /opt/bin/nvidia-smi /usr/bin/nvidia-smi\n",
        "!pip install gputil\n",
        "!pip install psutil\n",
        "!pip install humanize\n",
        "import psutil\n",
        "import humanize\n",
        "import os\n",
        "import GPUtil as GPU\n",
        "GPUs = GPU.getGPUs()\n",
        "# XXX: only one GPU on Colab and isn’t guaranteed\n",
        "gpu = GPUs[0]\n",
        "def printm():\n",
        " process = psutil.Process(os.getpid())\n",
        " print(\"Gen RAM Free: \" + humanize.naturalsize( psutil.virtual_memory().available ), \" | Proc size: \" + humanize.naturalsize( process.memory_info().rss))\n",
        " print(\"GPU RAM Free: {0:.0f}MB | Used: {1:.0f}MB | Util {2:3.0f}% | Total {3:.0f}MB\".format(gpu.memoryFree, gpu.memoryUsed, gpu.memoryUtil*100, gpu.memoryTotal))\n",
        "printm() "
      ],
      "execution_count": 1,
      "outputs": [
        {
          "output_type": "stream",
          "text": [
            "Collecting gputil\n",
            "  Downloading https://files.pythonhosted.org/packages/ed/0e/5c61eedde9f6c87713e89d794f01e378cfd9565847d4576fa627d758c554/GPUtil-1.4.0.tar.gz\n",
            "Building wheels for collected packages: gputil\n",
            "  Building wheel for gputil (setup.py) ... \u001b[?25l\u001b[?25hdone\n",
            "  Created wheel for gputil: filename=GPUtil-1.4.0-cp36-none-any.whl size=7413 sha256=94788c53d8efd14c271a584dda0995bef1a1f4c945042aaa9b4ebcd465507098\n",
            "  Stored in directory: /root/.cache/pip/wheels/3d/77/07/80562de4bb0786e5ea186911a2c831fdd0018bda69beab71fd\n",
            "Successfully built gputil\n",
            "Installing collected packages: gputil\n",
            "Successfully installed gputil-1.4.0\n",
            "Requirement already satisfied: psutil in /usr/local/lib/python3.6/dist-packages (5.4.8)\n",
            "Requirement already satisfied: humanize in /usr/local/lib/python3.6/dist-packages (0.5.1)\n",
            "Gen RAM Free: 12.7 GB  | Proc size: 158.7 MB\n",
            "GPU RAM Free: 16280MB | Used: 0MB | Util   0% | Total 16280MB\n"
          ],
          "name": "stdout"
        }
      ]
    },
    {
      "cell_type": "markdown",
      "metadata": {
        "id": "N4QMIWS547iw",
        "colab_type": "text"
      },
      "source": [
        "# Load from the github"
      ]
    },
    {
      "cell_type": "code",
      "metadata": {
        "id": "kC1kxjE9ybjl",
        "colab_type": "code",
        "outputId": "2b532997-768e-4e17-8196-5e0e5336bcf1",
        "colab": {
          "base_uri": "https://localhost:8080/",
          "height": 134
        }
      },
      "source": [
        "!git clone --branch edited https://github.com/Vitaly-Protasov/DL_project_skoltech"
      ],
      "execution_count": 2,
      "outputs": [
        {
          "output_type": "stream",
          "text": [
            "Cloning into 'DL_project_skoltech'...\n",
            "remote: Enumerating objects: 83, done.\u001b[K\n",
            "remote: Counting objects: 100% (83/83), done.\u001b[K\n",
            "remote: Compressing objects: 100% (77/77), done.\u001b[K\n",
            "remote: Total 280 (delta 44), reused 16 (delta 6), pack-reused 197\u001b[K\n",
            "Receiving objects: 100% (280/280), 62.50 KiB | 1.14 MiB/s, done.\n",
            "Resolving deltas: 100% (156/156), done.\n"
          ],
          "name": "stdout"
        }
      ]
    },
    {
      "cell_type": "code",
      "metadata": {
        "id": "EhzZ1XIiofJ7",
        "colab_type": "code",
        "outputId": "95cc8bd5-e3b3-4d9c-bf0d-af023c7ccdfb",
        "colab": {
          "base_uri": "https://localhost:8080/",
          "height": 34
        }
      },
      "source": [
        "cd DL_project_skoltech/"
      ],
      "execution_count": 3,
      "outputs": [
        {
          "output_type": "stream",
          "text": [
            "/content/DL_project_skoltech\n"
          ],
          "name": "stdout"
        }
      ]
    },
    {
      "cell_type": "markdown",
      "metadata": {
        "id": "Djjc-tjuMhhu",
        "colab_type": "text"
      },
      "source": [
        "# Download data"
      ]
    },
    {
      "cell_type": "code",
      "metadata": {
        "id": "Lp4neYWhMUHQ",
        "colab_type": "code",
        "outputId": "915162a1-9ad2-4a43-877a-9db8f66df4da",
        "colab": {
          "base_uri": "https://localhost:8080/",
          "height": 286
        }
      },
      "source": [
        "!bash download_data.sh"
      ],
      "execution_count": 4,
      "outputs": [
        {
          "output_type": "stream",
          "text": [
            "--2020-06-03 07:58:00--  https://s3.amazonaws.com/code2vec/data/java-small_data.tar.gz\n",
            "Resolving s3.amazonaws.com (s3.amazonaws.com)... 52.216.30.158\n",
            "Connecting to s3.amazonaws.com (s3.amazonaws.com)|52.216.30.158|:443... connected.\n",
            "HTTP request sent, awaiting response... 200 OK\n",
            "Length: 382731969 (365M) [application/x-tar]\n",
            "Saving to: ‘java-small_data.tar.gz’\n",
            "\n",
            "java-small_data.tar 100%[===================>] 365.00M  47.5MB/s    in 8.2s    \n",
            "\n",
            "2020-06-03 07:58:09 (44.7 MB/s) - ‘java-small_data.tar.gz’ saved [382731969/382731969]\n",
            "\n",
            "java-small/\n",
            "java-small/java-small.dict.c2v\n",
            "java-small/java-small.train.c2v\n",
            "java-small/java-small.val.c2v\n",
            "java-small/java-small.test.c2v\n"
          ],
          "name": "stdout"
        }
      ]
    },
    {
      "cell_type": "markdown",
      "metadata": {
        "id": "mECUxIi85Cg9",
        "colab_type": "text"
      },
      "source": [
        "# Import our modules and torch\n"
      ]
    },
    {
      "cell_type": "code",
      "metadata": {
        "id": "PK_PH-Wr0LAL",
        "colab_type": "code",
        "colab": {}
      },
      "source": [
        "import create_vocab\n",
        "import data_to_tensors\n",
        "import model_implementation\n",
        "from train import *\n",
        "\n",
        "import torch\n",
        "import torch.nn as nn\n",
        "import torch.nn.functional as F\n",
        "import random \n",
        "\n",
        "from torch.utils.data import DataLoader"
      ],
      "execution_count": 0,
      "outputs": []
    },
    {
      "cell_type": "markdown",
      "metadata": {
        "id": "-BiElxB55n7d",
        "colab_type": "text"
      },
      "source": [
        "# Because their data looks like this: we have 3 main dictionaries:\n",
        "* dictionary of all words in the sheets\n",
        "* dictionary of all paths(they are already hashed and converted to digits)\n",
        "* dictionary of targets(method names)\n"
      ]
    },
    {
      "cell_type": "code",
      "metadata": {
        "id": "3BunJzhfZ_jd",
        "colab_type": "code",
        "colab": {}
      },
      "source": [
        "dict_path = 'data/java-small/java-small.dict.c2v'\n",
        "word2idx, path2idx, target2idx, idx2target = create_vocab.create_vocab(dict_path)"
      ],
      "execution_count": 0,
      "outputs": []
    },
    {
      "cell_type": "markdown",
      "metadata": {
        "id": "OUJ5hZCS_DnF",
        "colab_type": "text"
      },
      "source": [
        "* 1) data_iterator Returns 100 batches each(the size can be changed when calling the function)\n",
        "* 2) from below you can see how the data is accessed, then 3 vectors are fed to the model(sorry for such names, I think you will understand from the arguments of the model that the output is)\n",
        "* 3) well, at the output we have code_vector and the second vector-probability distribution between all labels in target_vocab(dictionary of method names)"
      ]
    },
    {
      "cell_type": "code",
      "metadata": {
        "id": "WctOcjFevCYv",
        "colab_type": "code",
        "colab": {}
      },
      "source": [
        "path_for_train = 'data/java-small/java-small.train.c2v'\n",
        "train_dataset = data_to_tensors.TextDataset(path_for_train, \n",
        "                                                    word2idx, \n",
        "                                                    path2idx, \n",
        "                                                    target2idx)\n",
        "\n",
        "path_for_val = 'data/java-small/java-small.val.c2v'\n",
        "val_dataset = data_to_tensors.TextDataset(path_for_val, \n",
        "                                                    word2idx, \n",
        "                                                    path2idx, \n",
        "                                                    target2idx)\n",
        "\n",
        "train_loader = DataLoader(train_dataset, batch_size=1024, shuffle=True)\n",
        "val_loader = DataLoader(val_dataset, batch_size=100, shuffle=False)"
      ],
      "execution_count": 0,
      "outputs": []
    },
    {
      "cell_type": "markdown",
      "metadata": {
        "id": "rQx0PLsMopZ1",
        "colab_type": "text"
      },
      "source": [
        "# Train"
      ]
    },
    {
      "cell_type": "code",
      "metadata": {
        "id": "DGiy8Phzhk3w",
        "colab_type": "code",
        "colab": {}
      },
      "source": [
        "SEED = 1337\n",
        "random.seed(SEED)\n",
        "torch.manual_seed(SEED)\n",
        "torch.cuda.manual_seed(SEED)\n",
        "torch.backends.cudnn.deterministic = True"
      ],
      "execution_count": 0,
      "outputs": []
    },
    {
      "cell_type": "code",
      "metadata": {
        "id": "UUd5Yv3fmrBQ",
        "colab_type": "code",
        "colab": {}
      },
      "source": [
        "model = model_implementation.code2vec_model(values_vocab_size = len(word2idx), \n",
        "                             paths_vocab_size = len(path2idx), \n",
        "                             labels_num = len(target2idx))"
      ],
      "execution_count": 0,
      "outputs": []
    },
    {
      "cell_type": "code",
      "metadata": {
        "id": "CPVWRPDmmyUQ",
        "colab_type": "code",
        "outputId": "e20d024b-f72a-43a6-d47a-013edb55b3d4",
        "colab": {
          "base_uri": "https://localhost:8080/",
          "height": 1000
        }
      },
      "source": [
        "N_EPOCHS = 100\n",
        "LR = #\n",
        "WD = #\n",
        "optimizer = torch.optim.Adam(model.parameters(), lr=LR, weight_decay=WD)\n",
        "criterion = nn.CrossEntropyLoss()\n",
        "\n",
        "early_stop = False # ставите True и тогда будет обучение ток для одного батча\n",
        "list_train_loss, list_val_loss, list_train_precision, list_val_precision,list_train_recall, list_val_recall, list_train_f1, list_val_f1 = train(model = model, optimizer = optimizer,\n",
        "                                                                                                                                                criterion = criterion, train_loader = train_loader,\n",
        "                                                                                                                                                val_loader = val_loader,\n",
        "                                                                                                                                                epochs = N_EPOCHS, idx2target_vocab = idx2target, \n",
        "                                                                                                                                                scheduler=None, checkpoint=True, early_stop = early_stop)"
      ],
      "execution_count": 0,
      "outputs": [
        {
          "output_type": "stream",
          "text": [
            "1th epoch processed in 221.301\n",
            "Epoch 1: train loss - 10.04058, validation loss - 11.17642\n",
            "\t precision - 0.04826, recall - 0.05924, f1_score - 0.05319\n",
            "----------------------------------------------------------------------\n",
            "2th epoch processed in 221.949\n",
            "Epoch 2: train loss - 9.18779, validation loss - 11.14684\n",
            "\t precision - 0.04867, recall - 0.06246, f1_score - 0.05471\n",
            "----------------------------------------------------------------------\n",
            "3th epoch processed in 221.154\n",
            "Epoch 3: train loss - 8.80657, validation loss - 11.04221\n",
            "\t precision - 0.05234, recall - 0.07343, f1_score - 0.06112\n",
            "----------------------------------------------------------------------\n",
            "4th epoch processed in 221.880\n",
            "Epoch 4: train loss - 8.54833, validation loss - 10.90826\n",
            "\t precision - 0.0657, recall - 0.08914, f1_score - 0.07565\n",
            "----------------------------------------------------------------------\n",
            "5th epoch processed in 221.621\n",
            "Epoch 5: train loss - 8.32914, validation loss - 10.83634\n",
            "\t precision - 0.08083, recall - 0.09866, f1_score - 0.08886\n",
            "----------------------------------------------------------------------\n",
            "6th epoch processed in 221.499\n",
            "Epoch 6: train loss - 8.1448, validation loss - 10.78185\n",
            "\t precision - 0.0828, recall - 0.09908, f1_score - 0.09021\n",
            "----------------------------------------------------------------------\n",
            "7th epoch processed in 220.963\n",
            "Epoch 7: train loss - 7.98574, validation loss - 10.70554\n",
            "\t precision - 0.08972, recall - 0.11334, f1_score - 0.10015\n",
            "----------------------------------------------------------------------\n",
            "8th epoch processed in 221.218\n",
            "Epoch 8: train loss - 7.8531, validation loss - 10.58639\n",
            "\t precision - 0.10835, recall - 0.12537, f1_score - 0.11624\n",
            "----------------------------------------------------------------------\n",
            "9th epoch processed in 223.450\n",
            "Epoch 9: train loss - 7.74087, validation loss - 10.58035\n",
            "\t precision - 0.10156, recall - 0.13297, f1_score - 0.11516\n",
            "----------------------------------------------------------------------\n",
            "10th epoch processed in 220.860\n",
            "Epoch 10: train loss - 7.65248, validation loss - 10.5704\n",
            "\t precision - 0.10131, recall - 0.13562, f1_score - 0.11598\n",
            "----------------------------------------------------------------------\n",
            "11th epoch processed in 220.635\n",
            "Epoch 11: train loss - 7.5771, validation loss - 10.5325\n",
            "\t precision - 0.10563, recall - 0.1429, f1_score - 0.12147\n",
            "----------------------------------------------------------------------\n",
            "12th epoch processed in 220.198\n",
            "Epoch 12: train loss - 7.51182, validation loss - 10.44999\n",
            "\t precision - 0.10659, recall - 0.1466, f1_score - 0.12343\n",
            "----------------------------------------------------------------------\n",
            "13th epoch processed in 217.917\n",
            "Epoch 13: train loss - 7.45198, validation loss - 10.50599\n",
            "\t precision - 0.11319, recall - 0.14898, f1_score - 0.12864\n",
            "----------------------------------------------------------------------\n",
            "14th epoch processed in 217.548\n",
            "Epoch 14: train loss - 7.40129, validation loss - 10.47833\n",
            "\t precision - 0.09739, recall - 0.13445, f1_score - 0.11296\n",
            "----------------------------------------------------------------------\n",
            "15th epoch processed in 219.601\n",
            "Epoch 15: train loss - 7.35741, validation loss - 10.4163\n",
            "\t precision - 0.10347, recall - 0.13578, f1_score - 0.11745\n",
            "----------------------------------------------------------------------\n",
            "16th epoch processed in 217.750\n",
            "Epoch 16: train loss - 7.31681, validation loss - 10.46928\n",
            "\t precision - 0.11416, recall - 0.15257, f1_score - 0.1306\n",
            "----------------------------------------------------------------------\n",
            "17th epoch processed in 217.477\n",
            "Epoch 17: train loss - 7.283, validation loss - 10.44515\n",
            "\t precision - 0.10674, recall - 0.15314, f1_score - 0.1258\n",
            "----------------------------------------------------------------------\n",
            "18th epoch processed in 217.578\n",
            "Epoch 18: train loss - 7.25066, validation loss - 10.43629\n",
            "\t precision - 0.11215, recall - 0.15552, f1_score - 0.13032\n",
            "----------------------------------------------------------------------\n",
            "19th epoch processed in 216.737\n",
            "Epoch 19: train loss - 7.22022, validation loss - 10.41876\n",
            "\t precision - 0.11112, recall - 0.15601, f1_score - 0.12979\n",
            "----------------------------------------------------------------------\n",
            "20th epoch processed in 216.989\n",
            "Epoch 20: train loss - 7.19335, validation loss - 10.41998\n",
            "\t precision - 0.11863, recall - 0.16189, f1_score - 0.13692\n",
            "----------------------------------------------------------------------\n",
            "21th epoch processed in 216.988\n",
            "Epoch 21: train loss - 7.16625, validation loss - 10.43554\n",
            "\t precision - 0.11619, recall - 0.15713, f1_score - 0.13359\n",
            "----------------------------------------------------------------------\n",
            "22th epoch processed in 221.007\n",
            "Epoch 22: train loss - 7.14454, validation loss - 10.41731\n",
            "\t precision - 0.1145, recall - 0.15898, f1_score - 0.13312\n",
            "----------------------------------------------------------------------\n",
            "23th epoch processed in 219.432\n",
            "Epoch 23: train loss - 7.12236, validation loss - 10.40578\n",
            "\t precision - 0.11731, recall - 0.16365, f1_score - 0.13666\n",
            "----------------------------------------------------------------------\n",
            "24th epoch processed in 217.532\n",
            "Epoch 24: train loss - 7.10422, validation loss - 10.44317\n",
            "\t precision - 0.11094, recall - 0.16102, f1_score - 0.13137\n",
            "----------------------------------------------------------------------\n",
            "25th epoch processed in 218.572\n",
            "Epoch 25: train loss - 7.08634, validation loss - 10.41051\n",
            "\t precision - 0.11573, recall - 0.16389, f1_score - 0.13566\n",
            "----------------------------------------------------------------------\n",
            "26th epoch processed in 217.275\n",
            "Epoch 26: train loss - 7.06894, validation loss - 10.40607\n",
            "\t precision - 0.11459, recall - 0.16197, f1_score - 0.13422\n",
            "----------------------------------------------------------------------\n",
            "27th epoch processed in 217.209\n",
            "Epoch 27: train loss - 7.05223, validation loss - 10.41347\n",
            "\t precision - 0.12374, recall - 0.1715, f1_score - 0.14376\n",
            "----------------------------------------------------------------------\n",
            "28th epoch processed in 220.030\n",
            "Epoch 28: train loss - 7.03852, validation loss - 10.39776\n",
            "\t precision - 0.11586, recall - 0.16136, f1_score - 0.13488\n",
            "----------------------------------------------------------------------\n",
            "29th epoch processed in 217.331\n",
            "Epoch 29: train loss - 7.02417, validation loss - 10.41561\n",
            "\t precision - 0.11481, recall - 0.16196, f1_score - 0.13437\n",
            "----------------------------------------------------------------------\n",
            "30th epoch processed in 217.227\n",
            "Epoch 30: train loss - 7.01174, validation loss - 10.40889\n",
            "\t precision - 0.11516, recall - 0.16281, f1_score - 0.1349\n",
            "----------------------------------------------------------------------\n",
            "31th epoch processed in 216.900\n",
            "Epoch 31: train loss - 6.99967, validation loss - 10.40629\n",
            "\t precision - 0.11642, recall - 0.16383, f1_score - 0.13612\n",
            "----------------------------------------------------------------------\n",
            "32th epoch processed in 219.359\n",
            "Epoch 32: train loss - 6.98787, validation loss - 10.35156\n",
            "\t precision - 0.11653, recall - 0.15975, f1_score - 0.13476\n",
            "----------------------------------------------------------------------\n",
            "33th epoch processed in 221.377\n",
            "Epoch 33: train loss - 6.97689, validation loss - 10.38917\n",
            "\t precision - 0.11901, recall - 0.16463, f1_score - 0.13815\n",
            "----------------------------------------------------------------------\n",
            "34th epoch processed in 221.296\n",
            "Epoch 34: train loss - 6.96694, validation loss - 10.38662\n",
            "\t precision - 0.12219, recall - 0.16635, f1_score - 0.14089\n",
            "----------------------------------------------------------------------\n",
            "35th epoch processed in 219.681\n",
            "Epoch 35: train loss - 6.958, validation loss - 10.40689\n",
            "\t precision - 0.11751, recall - 0.16529, f1_score - 0.13736\n",
            "----------------------------------------------------------------------\n",
            "36th epoch processed in 218.043\n",
            "Epoch 36: train loss - 6.94802, validation loss - 10.43956\n",
            "\t precision - 0.11432, recall - 0.15867, f1_score - 0.13289\n",
            "----------------------------------------------------------------------\n",
            "37th epoch processed in 218.229\n",
            "Epoch 37: train loss - 6.93916, validation loss - 10.40008\n",
            "\t precision - 0.11847, recall - 0.16361, f1_score - 0.13743\n",
            "----------------------------------------------------------------------\n",
            "38th epoch processed in 218.418\n",
            "Epoch 38: train loss - 6.9306, validation loss - 10.39476\n",
            "\t precision - 0.11445, recall - 0.16316, f1_score - 0.13453\n",
            "----------------------------------------------------------------------\n",
            "39th epoch processed in 218.645\n",
            "Epoch 39: train loss - 6.92245, validation loss - 10.37938\n",
            "\t precision - 0.11536, recall - 0.16382, f1_score - 0.13539\n",
            "----------------------------------------------------------------------\n",
            "40th epoch processed in 220.325\n",
            "Epoch 40: train loss - 6.91537, validation loss - 10.38157\n",
            "\t precision - 0.11577, recall - 0.16533, f1_score - 0.13618\n",
            "----------------------------------------------------------------------\n",
            "41th epoch processed in 218.960\n",
            "Epoch 41: train loss - 6.9067, validation loss - 10.39854\n",
            "\t precision - 0.11918, recall - 0.16586, f1_score - 0.1387\n",
            "----------------------------------------------------------------------\n",
            "42th epoch processed in 220.211\n",
            "Epoch 42: train loss - 6.90092, validation loss - 10.43094\n",
            "\t precision - 0.11663, recall - 0.16252, f1_score - 0.13581\n",
            "----------------------------------------------------------------------\n",
            "43th epoch processed in 218.715\n",
            "Epoch 43: train loss - 6.89515, validation loss - 10.42272\n",
            "\t precision - 0.12081, recall - 0.16667, f1_score - 0.14008\n",
            "----------------------------------------------------------------------\n",
            "44th epoch processed in 218.114\n",
            "Epoch 44: train loss - 6.88688, validation loss - 10.36657\n",
            "\t precision - 0.11809, recall - 0.16537, f1_score - 0.13779\n",
            "----------------------------------------------------------------------\n",
            "45th epoch processed in 217.991\n",
            "Epoch 45: train loss - 6.87938, validation loss - 10.41789\n",
            "\t precision - 0.11857, recall - 0.16529, f1_score - 0.13808\n",
            "----------------------------------------------------------------------\n",
            "46th epoch processed in 217.996\n",
            "Epoch 46: train loss - 6.87319, validation loss - 10.39282\n",
            "\t precision - 0.11836, recall - 0.16553, f1_score - 0.13803\n",
            "----------------------------------------------------------------------\n",
            "47th epoch processed in 218.145\n",
            "Epoch 47: train loss - 6.86805, validation loss - 10.39294\n",
            "\t precision - 0.11982, recall - 0.16708, f1_score - 0.13956\n",
            "----------------------------------------------------------------------\n",
            "48th epoch processed in 220.769\n",
            "Epoch 48: train loss - 6.86386, validation loss - 10.39682\n",
            "\t precision - 0.1192, recall - 0.16448, f1_score - 0.13823\n",
            "----------------------------------------------------------------------\n",
            "49th epoch processed in 222.705\n",
            "Epoch 49: train loss - 6.85864, validation loss - 10.39102\n",
            "\t precision - 0.11617, recall - 0.16473, f1_score - 0.13625\n",
            "----------------------------------------------------------------------\n",
            "50th epoch processed in 219.402\n",
            "Epoch 50: train loss - 6.85342, validation loss - 10.37294\n",
            "\t precision - 0.11972, recall - 0.1674, f1_score - 0.1396\n",
            "----------------------------------------------------------------------\n",
            "51th epoch processed in 220.347\n",
            "Epoch 51: train loss - 6.84917, validation loss - 10.38766\n",
            "\t precision - 0.12307, recall - 0.17278, f1_score - 0.14375\n",
            "----------------------------------------------------------------------\n",
            "52th epoch processed in 221.671\n",
            "Epoch 52: train loss - 6.84507, validation loss - 10.36411\n",
            "\t precision - 0.12128, recall - 0.17347, f1_score - 0.14275\n",
            "----------------------------------------------------------------------\n",
            "53th epoch processed in 220.754\n",
            "Epoch 53: train loss - 6.84108, validation loss - 10.35654\n",
            "\t precision - 0.12064, recall - 0.16775, f1_score - 0.14035\n",
            "----------------------------------------------------------------------\n",
            "54th epoch processed in 223.819\n",
            "Epoch 54: train loss - 6.83651, validation loss - 10.33721\n",
            "\t precision - 0.12502, recall - 0.16939, f1_score - 0.14386\n",
            "----------------------------------------------------------------------\n",
            "55th epoch processed in 222.865\n",
            "Epoch 55: train loss - 6.8317, validation loss - 10.38042\n",
            "\t precision - 0.11579, recall - 0.1701, f1_score - 0.13779\n",
            "----------------------------------------------------------------------\n",
            "56th epoch processed in 222.660\n",
            "Epoch 56: train loss - 6.82793, validation loss - 10.37359\n",
            "\t precision - 0.12088, recall - 0.16715, f1_score - 0.1403\n",
            "----------------------------------------------------------------------\n",
            "57th epoch processed in 223.618\n",
            "Epoch 57: train loss - 6.82252, validation loss - 10.37128\n",
            "\t precision - 0.12198, recall - 0.16969, f1_score - 0.14193\n",
            "----------------------------------------------------------------------\n",
            "58th epoch processed in 224.781\n",
            "Epoch 58: train loss - 6.81797, validation loss - 10.37432\n",
            "\t precision - 0.11314, recall - 0.16838, f1_score - 0.13534\n",
            "----------------------------------------------------------------------\n",
            "59th epoch processed in 222.421\n",
            "Epoch 59: train loss - 6.8159, validation loss - 10.35552\n",
            "\t precision - 0.12663, recall - 0.17619, f1_score - 0.14735\n",
            "----------------------------------------------------------------------\n",
            "60th epoch processed in 221.780\n",
            "Epoch 60: train loss - 6.81256, validation loss - 10.35646\n",
            "\t precision - 0.1217, recall - 0.17031, f1_score - 0.14196\n",
            "----------------------------------------------------------------------\n",
            "61th epoch processed in 221.768\n",
            "Epoch 61: train loss - 6.80959, validation loss - 10.38501\n",
            "\t precision - 0.12062, recall - 0.16813, f1_score - 0.14047\n",
            "----------------------------------------------------------------------\n",
            "62th epoch processed in 219.865\n",
            "Epoch 62: train loss - 6.80692, validation loss - 10.3471\n",
            "\t precision - 0.11839, recall - 0.16789, f1_score - 0.13886\n",
            "----------------------------------------------------------------------\n",
            "63th epoch processed in 219.323\n",
            "Epoch 63: train loss - 6.80374, validation loss - 10.36228\n",
            "\t precision - 0.12409, recall - 0.17003, f1_score - 0.14347\n",
            "----------------------------------------------------------------------\n",
            "64th epoch processed in 222.054\n",
            "Epoch 64: train loss - 6.80047, validation loss - 10.39184\n",
            "\t precision - 0.12229, recall - 0.16737, f1_score - 0.14132\n",
            "----------------------------------------------------------------------\n",
            "65th epoch processed in 219.973\n",
            "Epoch 65: train loss - 6.79681, validation loss - 10.36628\n",
            "\t precision - 0.11851, recall - 0.16495, f1_score - 0.13792\n",
            "----------------------------------------------------------------------\n",
            "66th epoch processed in 219.336\n",
            "Epoch 66: train loss - 6.79464, validation loss - 10.37555\n",
            "\t precision - 0.12335, recall - 0.16898, f1_score - 0.1426\n",
            "----------------------------------------------------------------------\n",
            "67th epoch processed in 219.422\n",
            "Epoch 67: train loss - 6.79206, validation loss - 10.36156\n",
            "\t precision - 0.11644, recall - 0.16592, f1_score - 0.13684\n",
            "----------------------------------------------------------------------\n",
            "68th epoch processed in 219.901\n",
            "Epoch 68: train loss - 6.79008, validation loss - 10.35705\n",
            "\t precision - 0.12423, recall - 0.17217, f1_score - 0.14432\n",
            "----------------------------------------------------------------------\n",
            "69th epoch processed in 220.096\n",
            "Epoch 69: train loss - 6.78608, validation loss - 10.37036\n",
            "\t precision - 0.11789, recall - 0.17076, f1_score - 0.13948\n",
            "----------------------------------------------------------------------\n",
            "70th epoch processed in 219.693\n",
            "Epoch 70: train loss - 6.78471, validation loss - 10.3819\n",
            "\t precision - 0.11559, recall - 0.16604, f1_score - 0.13629\n",
            "----------------------------------------------------------------------\n",
            "71th epoch processed in 219.135\n",
            "Epoch 71: train loss - 6.78212, validation loss - 10.34987\n",
            "\t precision - 0.12229, recall - 0.17007, f1_score - 0.14227\n",
            "----------------------------------------------------------------------\n",
            "72th epoch processed in 220.560\n",
            "Epoch 72: train loss - 6.78089, validation loss - 10.33402\n",
            "\t precision - 0.11797, recall - 0.16699, f1_score - 0.13827\n",
            "----------------------------------------------------------------------\n",
            "73th epoch processed in 218.120\n",
            "Epoch 73: train loss - 6.77921, validation loss - 10.34725\n",
            "\t precision - 0.12226, recall - 0.17108, f1_score - 0.14261\n",
            "----------------------------------------------------------------------\n",
            "74th epoch processed in 216.157\n",
            "Epoch 74: train loss - 6.77517, validation loss - 10.38403\n",
            "\t precision - 0.11764, recall - 0.16495, f1_score - 0.13734\n",
            "----------------------------------------------------------------------\n",
            "75th epoch processed in 220.972\n",
            "Epoch 75: train loss - 6.77464, validation loss - 10.32929\n",
            "\t precision - 0.12185, recall - 0.16965, f1_score - 0.14183\n",
            "----------------------------------------------------------------------\n",
            "76th epoch processed in 216.199\n",
            "Epoch 76: train loss - 6.77057, validation loss - 10.3439\n",
            "\t precision - 0.12544, recall - 0.17147, f1_score - 0.14489\n",
            "----------------------------------------------------------------------\n",
            "77th epoch processed in 216.659\n",
            "Epoch 77: train loss - 6.77081, validation loss - 10.33941\n",
            "\t precision - 0.11611, recall - 0.16779, f1_score - 0.13725\n",
            "----------------------------------------------------------------------\n",
            "78th epoch processed in 217.883\n",
            "Epoch 78: train loss - 6.76802, validation loss - 10.36696\n",
            "\t precision - 0.12164, recall - 0.17042, f1_score - 0.14195\n",
            "----------------------------------------------------------------------\n",
            "79th epoch processed in 217.553\n",
            "Epoch 79: train loss - 6.76566, validation loss - 10.3464\n",
            "\t precision - 0.1216, recall - 0.16448, f1_score - 0.13983\n",
            "----------------------------------------------------------------------\n"
          ],
          "name": "stdout"
        }
      ]
    },
    {
      "cell_type": "code",
      "metadata": {
        "id": "W42d-VljpsYd",
        "colab_type": "code",
        "colab": {}
      },
      "source": [
        ""
      ],
      "execution_count": 0,
      "outputs": []
    }
  ]
}