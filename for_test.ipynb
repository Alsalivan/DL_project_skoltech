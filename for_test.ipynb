{
  "nbformat": 4,
  "nbformat_minor": 0,
  "metadata": {
    "colab": {
      "name": "for_test.ipynb",
      "provenance": [],
      "collapsed_sections": [],
      "toc_visible": true
    },
    "kernelspec": {
      "name": "python3",
      "display_name": "Python 3"
    },
    "accelerator": "GPU"
  },
  "cells": [
    {
      "cell_type": "markdown",
      "metadata": {
        "id": "KnxLJt_T44VB",
        "colab_type": "text"
      },
      "source": [
        "# Грузим данные и распаковываем"
      ]
    },
    {
      "cell_type": "code",
      "metadata": {
        "id": "Od2Oc61EyYvb",
        "colab_type": "code",
        "outputId": "4304c3e9-8372-4a3c-b446-c74a09ad1e5d",
        "colab": {
          "base_uri": "https://localhost:8080/",
          "height": 286
        }
      },
      "source": [
        "!mkdir data\n",
        "!wget https://s3.amazonaws.com/code2vec/data/java-small_data.tar.gz\n",
        "!tar -xvzf java-small_data.tar.gz\n",
        "!mv java-small data"
      ],
      "execution_count": 1,
      "outputs": [
        {
          "output_type": "stream",
          "text": [
            "--2020-06-02 15:11:16--  https://s3.amazonaws.com/code2vec/data/java-small_data.tar.gz\n",
            "Resolving s3.amazonaws.com (s3.amazonaws.com)... 52.216.248.30\n",
            "Connecting to s3.amazonaws.com (s3.amazonaws.com)|52.216.248.30|:443... connected.\n",
            "HTTP request sent, awaiting response... 200 OK\n",
            "Length: 382731969 (365M) [application/x-tar]\n",
            "Saving to: ‘java-small_data.tar.gz’\n",
            "\n",
            "java-small_data.tar 100%[===================>] 365.00M  32.0MB/s    in 12s     \n",
            "\n",
            "2020-06-02 15:11:29 (30.0 MB/s) - ‘java-small_data.tar.gz’ saved [382731969/382731969]\n",
            "\n",
            "java-small/\n",
            "java-small/java-small.dict.c2v\n",
            "java-small/java-small.train.c2v\n",
            "java-small/java-small.val.c2v\n",
            "java-small/java-small.test.c2v\n"
          ],
          "name": "stdout"
        }
      ]
    },
    {
      "cell_type": "markdown",
      "metadata": {
        "id": "N4QMIWS547iw",
        "colab_type": "text"
      },
      "source": [
        "# Качаем всё из нашего гита"
      ]
    },
    {
      "cell_type": "code",
      "metadata": {
        "id": "3qxHPdV7mh2L",
        "colab_type": "code",
        "colab": {}
      },
      "source": [
        "rm -rf DL_project_skoltech/"
      ],
      "execution_count": 0,
      "outputs": []
    },
    {
      "cell_type": "code",
      "metadata": {
        "id": "kC1kxjE9ybjl",
        "colab_type": "code",
        "outputId": "577fb21a-7998-458d-c7f4-68a45305d3a9",
        "colab": {
          "base_uri": "https://localhost:8080/",
          "height": 134
        }
      },
      "source": [
        "!git clone https://github.com/Vitaly-Protasov/DL_project_skoltech"
      ],
      "execution_count": 4,
      "outputs": [
        {
          "output_type": "stream",
          "text": [
            "Cloning into 'DL_project_skoltech'...\n",
            "remote: Enumerating objects: 123, done.\u001b[K\n",
            "remote: Counting objects:   0% (1/123)\u001b[K\rremote: Counting objects:   1% (2/123)\u001b[K\rremote: Counting objects:   2% (3/123)\u001b[K\rremote: Counting objects:   3% (4/123)\u001b[K\rremote: Counting objects:   4% (5/123)\u001b[K\rremote: Counting objects:   5% (7/123)\u001b[K\rremote: Counting objects:   6% (8/123)\u001b[K\rremote: Counting objects:   7% (9/123)\u001b[K\rremote: Counting objects:   8% (10/123)\u001b[K\rremote: Counting objects:   9% (12/123)\u001b[K\rremote: Counting objects:  10% (13/123)\u001b[K\rremote: Counting objects:  11% (14/123)\u001b[K\rremote: Counting objects:  12% (15/123)\u001b[K\rremote: Counting objects:  13% (16/123)\u001b[K\rremote: Counting objects:  14% (18/123)\u001b[K\rremote: Counting objects:  15% (19/123)\u001b[K\rremote: Counting objects:  16% (20/123)\u001b[K\rremote: Counting objects:  17% (21/123)\u001b[K\rremote: Counting objects:  18% (23/123)\u001b[K\rremote: Counting objects:  19% (24/123)\u001b[K\rremote: Counting objects:  20% (25/123)\u001b[K\rremote: Counting objects:  21% (26/123)\u001b[K\rremote: Counting objects:  22% (28/123)\u001b[K\rremote: Counting objects:  23% (29/123)\u001b[K\rremote: Counting objects:  24% (30/123)\u001b[K\rremote: Counting objects:  25% (31/123)\u001b[K\rremote: Counting objects:  26% (32/123)\u001b[K\rremote: Counting objects:  27% (34/123)\u001b[K\rremote: Counting objects:  28% (35/123)\u001b[K\rremote: Counting objects:  29% (36/123)\u001b[K\rremote: Counting objects:  30% (37/123)\u001b[K\rremote: Counting objects:  31% (39/123)\u001b[K\rremote: Counting objects:  32% (40/123)\u001b[K\rremote: Counting objects:  33% (41/123)\u001b[K\rremote: Counting objects:  34% (42/123)\u001b[K\rremote: Counting objects:  35% (44/123)\u001b[K\rremote: Counting objects:  36% (45/123)\u001b[K\rremote: Counting objects:  37% (46/123)\u001b[K\rremote: Counting objects:  38% (47/123)\u001b[K\rremote: Counting objects:  39% (48/123)\u001b[K\rremote: Counting objects:  40% (50/123)\u001b[K\rremote: Counting objects:  41% (51/123)\u001b[K\rremote: Counting objects:  42% (52/123)\u001b[K\rremote: Counting objects:  43% (53/123)\u001b[K\rremote: Counting objects:  44% (55/123)\u001b[K\rremote: Counting objects:  45% (56/123)\u001b[K\rremote: Counting objects:  46% (57/123)\u001b[K\rremote: Counting objects:  47% (58/123)\u001b[K\rremote: Counting objects:  48% (60/123)\u001b[K\rremote: Counting objects:  49% (61/123)\u001b[K\rremote: Counting objects:  50% (62/123)\u001b[K\rremote: Counting objects:  51% (63/123)\u001b[K\rremote: Counting objects:  52% (64/123)\u001b[K\rremote: Counting objects:  53% (66/123)\u001b[K\rremote: Counting objects:  54% (67/123)\u001b[K\rremote: Counting objects:  55% (68/123)\u001b[K\rremote: Counting objects:  56% (69/123)\u001b[K\rremote: Counting objects:  57% (71/123)\u001b[K\rremote: Counting objects:  58% (72/123)\u001b[K\rremote: Counting objects:  59% (73/123)\u001b[K\rremote: Counting objects:  60% (74/123)\u001b[K\rremote: Counting objects:  61% (76/123)\u001b[K\rremote: Counting objects:  62% (77/123)\u001b[K\rremote: Counting objects:  63% (78/123)\u001b[K\rremote: Counting objects:  64% (79/123)\u001b[K\rremote: Counting objects:  65% (80/123)\u001b[K\rremote: Counting objects:  66% (82/123)\u001b[K\rremote: Counting objects:  67% (83/123)\u001b[K\rremote: Counting objects:  68% (84/123)\u001b[K\rremote: Counting objects:  69% (85/123)\u001b[K\rremote: Counting objects:  70% (87/123)\u001b[K\rremote: Counting objects:  71% (88/123)\u001b[K\rremote: Counting objects:  72% (89/123)\u001b[K\rremote: Counting objects:  73% (90/123)\u001b[K\rremote: Counting objects:  74% (92/123)\u001b[K\rremote: Counting objects:  75% (93/123)\u001b[K\rremote: Counting objects:  76% (94/123)\u001b[K\rremote: Counting objects:  77% (95/123)\u001b[K\rremote: Counting objects:  78% (96/123)\u001b[K\rremote: Counting objects:  79% (98/123)\u001b[K\rremote: Counting objects:  80% (99/123)\u001b[K\rremote: Counting objects:  81% (100/123)\u001b[K\rremote: Counting objects:  82% (101/123)\u001b[K\rremote: Counting objects:  83% (103/123)\u001b[K\rremote: Counting objects:  84% (104/123)\u001b[K\rremote: Counting objects:  85% (105/123)\u001b[K\rremote: Counting objects:  86% (106/123)\u001b[K\rremote: Counting objects:  87% (108/123)\u001b[K\rremote: Counting objects:  88% (109/123)\u001b[K\rremote: Counting objects:  89% (110/123)\u001b[K\rremote: Counting objects:  90% (111/123)\u001b[K\rremote: Counting objects:  91% (112/123)\u001b[K\rremote: Counting objects:  92% (114/123)\u001b[K\rremote: Counting objects:  93% (115/123)\u001b[K\rremote: Counting objects:  94% (116/123)\u001b[K\rremote: Counting objects:  95% (117/123)\u001b[K\rremote: Counting objects:  96% (119/123)\u001b[K\rremote: Counting objects:  97% (120/123)\u001b[K\rremote: Counting objects:  98% (121/123)\u001b[K\rremote: Counting objects:  99% (122/123)\u001b[K\rremote: Counting objects: 100% (123/123)\u001b[K\rremote: Counting objects: 100% (123/123), done.\u001b[K\n",
            "remote: Compressing objects:   1% (1/89)\u001b[K\rremote: Compressing objects:   2% (2/89)\u001b[K\rremote: Compressing objects:   3% (3/89)\u001b[K\rremote: Compressing objects:   4% (4/89)\u001b[K\rremote: Compressing objects:   5% (5/89)\u001b[K\rremote: Compressing objects:   6% (6/89)\u001b[K\rremote: Compressing objects:   7% (7/89)\u001b[K\rremote: Compressing objects:   8% (8/89)\u001b[K\rremote: Compressing objects:  10% (9/89)\u001b[K\rremote: Compressing objects:  11% (10/89)\u001b[K\rremote: Compressing objects:  12% (11/89)\u001b[K\rremote: Compressing objects:  13% (12/89)\u001b[K\rremote: Compressing objects:  14% (13/89)\u001b[K\rremote: Compressing objects:  15% (14/89)\u001b[K\rremote: Compressing objects:  16% (15/89)\u001b[K\rremote: Compressing objects:  17% (16/89)\u001b[K\rremote: Compressing objects:  19% (17/89)\u001b[K\rremote: Compressing objects:  20% (18/89)\u001b[K\rremote: Compressing objects:  21% (19/89)\u001b[K\rremote: Compressing objects:  22% (20/89)\u001b[K\rremote: Compressing objects:  23% (21/89)\u001b[K\rremote: Compressing objects:  24% (22/89)\u001b[K\rremote: Compressing objects:  25% (23/89)\u001b[K\rremote: Compressing objects:  26% (24/89)\u001b[K\rremote: Compressing objects:  28% (25/89)\u001b[K\rremote: Compressing objects:  29% (26/89)\u001b[K\rremote: Compressing objects:  30% (27/89)\u001b[K\rremote: Compressing objects:  31% (28/89)\u001b[K\rremote: Compressing objects:  32% (29/89)\u001b[K\rremote: Compressing objects:  33% (30/89)\u001b[K\rremote: Compressing objects:  34% (31/89)\u001b[K\rremote: Compressing objects:  35% (32/89)\u001b[K\rremote: Compressing objects:  37% (33/89)\u001b[K\rremote: Compressing objects:  38% (34/89)\u001b[K\rremote: Compressing objects:  39% (35/89)\u001b[K\rremote: Compressing objects:  40% (36/89)\u001b[K\rremote: Compressing objects:  41% (37/89)\u001b[K\rremote: Compressing objects:  42% (38/89)\u001b[K\rremote: Compressing objects:  43% (39/89)\u001b[K\rremote: Compressing objects:  44% (40/89)\u001b[K\rremote: Compressing objects:  46% (41/89)\u001b[K\rremote: Compressing objects:  47% (42/89)\u001b[K\rremote: Compressing objects:  48% (43/89)\u001b[K\rremote: Compressing objects:  49% (44/89)\u001b[K\rremote: Compressing objects:  50% (45/89)\u001b[K\rremote: Compressing objects:  51% (46/89)\u001b[K\rremote: Compressing objects:  52% (47/89)\u001b[K\rremote: Compressing objects:  53% (48/89)\u001b[K\rremote: Compressing objects:  55% (49/89)\u001b[K\rremote: Compressing objects:  56% (50/89)\u001b[K\rremote: Compressing objects:  57% (51/89)\u001b[K\rremote: Compressing objects:  58% (52/89)\u001b[K\rremote: Compressing objects:  59% (53/89)\u001b[K\rremote: Compressing objects:  60% (54/89)\u001b[K\rremote: Compressing objects:  61% (55/89)\u001b[K\rremote: Compressing objects:  62% (56/89)\u001b[K\rremote: Compressing objects:  64% (57/89)\u001b[K\rremote: Compressing objects:  65% (58/89)\u001b[K\rremote: Compressing objects:  66% (59/89)\u001b[K\rremote: Compressing objects:  67% (60/89)\u001b[K\rremote: Compressing objects:  68% (61/89)\u001b[K\rremote: Compressing objects:  69% (62/89)\u001b[K\rremote: Compressing objects:  70% (63/89)\u001b[K\rremote: Compressing objects:  71% (64/89)\u001b[K\rremote: Compressing objects:  73% (65/89)\u001b[K\rremote: Compressing objects:  74% (66/89)\u001b[K\rremote: Compressing objects:  75% (67/89)\u001b[K\rremote: Compressing objects:  76% (68/89)\u001b[K\rremote: Compressing objects:  77% (69/89)\u001b[K\rremote: Compressing objects:  78% (70/89)\u001b[K\rremote: Compressing objects:  79% (71/89)\u001b[K\rremote: Compressing objects:  80% (72/89)\u001b[K\rremote: Compressing objects:  82% (73/89)\u001b[K\rremote: Compressing objects:  83% (74/89)\u001b[K\rremote: Compressing objects:  84% (75/89)\u001b[K\rremote: Compressing objects:  85% (76/89)\u001b[K\rremote: Compressing objects:  86% (77/89)\u001b[K\rremote: Compressing objects:  87% (78/89)\u001b[K\rremote: Compressing objects:  88% (79/89)\u001b[K\rremote: Compressing objects:  89% (80/89)\u001b[K\rremote: Compressing objects:  91% (81/89)\u001b[K\rremote: Compressing objects:  92% (82/89)\u001b[K\rremote: Compressing objects:  93% (83/89)\u001b[K\rremote: Compressing objects:  94% (84/89)\u001b[K\rremote: Compressing objects:  95% (85/89)\u001b[K\rremote: Compressing objects:  96% (86/89)\u001b[K\rremote: Compressing objects:  97% (87/89)\u001b[K\rremote: Compressing objects:  98% (88/89)\u001b[K\rremote: Compressing objects: 100% (89/89)\u001b[K\rremote: Compressing objects: 100% (89/89), done.\u001b[K\n",
            "Receiving objects:   0% (1/123)   \rReceiving objects:   1% (2/123)   \rReceiving objects:   2% (3/123)   \rReceiving objects:   3% (4/123)   \rReceiving objects:   4% (5/123)   \rReceiving objects:   5% (7/123)   \rReceiving objects:   6% (8/123)   \rReceiving objects:   7% (9/123)   \rReceiving objects:   8% (10/123)   \rReceiving objects:   9% (12/123)   \rReceiving objects:  10% (13/123)   \rReceiving objects:  11% (14/123)   \rReceiving objects:  12% (15/123)   \rReceiving objects:  13% (16/123)   \rReceiving objects:  14% (18/123)   \rReceiving objects:  15% (19/123)   \rReceiving objects:  16% (20/123)   \rReceiving objects:  17% (21/123)   \rReceiving objects:  18% (23/123)   \rReceiving objects:  19% (24/123)   \rReceiving objects:  20% (25/123)   \rReceiving objects:  21% (26/123)   \rReceiving objects:  22% (28/123)   \rReceiving objects:  23% (29/123)   \rReceiving objects:  24% (30/123)   \rReceiving objects:  25% (31/123)   \rReceiving objects:  26% (32/123)   \rReceiving objects:  27% (34/123)   \rReceiving objects:  28% (35/123)   \rReceiving objects:  29% (36/123)   \rReceiving objects:  30% (37/123)   \rReceiving objects:  31% (39/123)   \rReceiving objects:  32% (40/123)   \rReceiving objects:  33% (41/123)   \rReceiving objects:  34% (42/123)   \rReceiving objects:  35% (44/123)   \rReceiving objects:  36% (45/123)   \rReceiving objects:  37% (46/123)   \rReceiving objects:  38% (47/123)   \rReceiving objects:  39% (48/123)   \rReceiving objects:  40% (50/123)   \rReceiving objects:  41% (51/123)   \rReceiving objects:  42% (52/123)   \rReceiving objects:  43% (53/123)   \rReceiving objects:  44% (55/123)   \rReceiving objects:  45% (56/123)   \rReceiving objects:  46% (57/123)   \rReceiving objects:  47% (58/123)   \rReceiving objects:  48% (60/123)   \rReceiving objects:  49% (61/123)   \rremote: Total 123 (delta 67), reused 86 (delta 33), pack-reused 0\u001b[K\n",
            "Receiving objects:  50% (62/123)   \rReceiving objects:  51% (63/123)   \rReceiving objects:  52% (64/123)   \rReceiving objects:  53% (66/123)   \rReceiving objects:  54% (67/123)   \rReceiving objects:  55% (68/123)   \rReceiving objects:  56% (69/123)   \rReceiving objects:  57% (71/123)   \rReceiving objects:  58% (72/123)   \rReceiving objects:  59% (73/123)   \rReceiving objects:  60% (74/123)   \rReceiving objects:  61% (76/123)   \rReceiving objects:  62% (77/123)   \rReceiving objects:  63% (78/123)   \rReceiving objects:  64% (79/123)   \rReceiving objects:  65% (80/123)   \rReceiving objects:  66% (82/123)   \rReceiving objects:  67% (83/123)   \rReceiving objects:  68% (84/123)   \rReceiving objects:  69% (85/123)   \rReceiving objects:  70% (87/123)   \rReceiving objects:  71% (88/123)   \rReceiving objects:  72% (89/123)   \rReceiving objects:  73% (90/123)   \rReceiving objects:  74% (92/123)   \rReceiving objects:  75% (93/123)   \rReceiving objects:  76% (94/123)   \rReceiving objects:  77% (95/123)   \rReceiving objects:  78% (96/123)   \rReceiving objects:  79% (98/123)   \rReceiving objects:  80% (99/123)   \rReceiving objects:  81% (100/123)   \rReceiving objects:  82% (101/123)   \rReceiving objects:  83% (103/123)   \rReceiving objects:  84% (104/123)   \rReceiving objects:  85% (105/123)   \rReceiving objects:  86% (106/123)   \rReceiving objects:  87% (108/123)   \rReceiving objects:  88% (109/123)   \rReceiving objects:  89% (110/123)   \rReceiving objects:  90% (111/123)   \rReceiving objects:  91% (112/123)   \rReceiving objects:  92% (114/123)   \rReceiving objects:  93% (115/123)   \rReceiving objects:  94% (116/123)   \rReceiving objects:  95% (117/123)   \rReceiving objects:  96% (119/123)   \rReceiving objects:  97% (120/123)   \rReceiving objects:  98% (121/123)   \rReceiving objects:  99% (122/123)   \rReceiving objects: 100% (123/123)   \rReceiving objects: 100% (123/123), 21.54 KiB | 565.00 KiB/s, done.\n",
            "Resolving deltas:   0% (0/67)   \rResolving deltas:   2% (2/67)   \rResolving deltas:  13% (9/67)   \rResolving deltas:  49% (33/67)   \rResolving deltas:  53% (36/67)   \rResolving deltas:  61% (41/67)   \rResolving deltas:  67% (45/67)   \rResolving deltas:  68% (46/67)   \rResolving deltas:  76% (51/67)   \rResolving deltas:  80% (54/67)   \rResolving deltas:  83% (56/67)   \rResolving deltas: 100% (67/67)   \rResolving deltas: 100% (67/67), done.\n"
          ],
          "name": "stdout"
        }
      ]
    },
    {
      "cell_type": "code",
      "metadata": {
        "id": "EhzZ1XIiofJ7",
        "colab_type": "code",
        "colab": {
          "base_uri": "https://localhost:8080/",
          "height": 34
        },
        "outputId": "01fd3b36-fa0b-4f21-c6a5-2ce44cf9b601"
      },
      "source": [
        "cd DL_project_skoltech/"
      ],
      "execution_count": 6,
      "outputs": [
        {
          "output_type": "stream",
          "text": [
            "/content/DL_project_skoltech\n"
          ],
          "name": "stdout"
        }
      ]
    },
    {
      "cell_type": "markdown",
      "metadata": {
        "id": "mECUxIi85Cg9",
        "colab_type": "text"
      },
      "source": [
        "# У нас пока 3 модуля, импортим их\n"
      ]
    },
    {
      "cell_type": "code",
      "metadata": {
        "id": "PK_PH-Wr0LAL",
        "colab_type": "code",
        "colab": {}
      },
      "source": [
        "import create_vocab\n",
        "import data_to_tensors\n",
        "import model_implementation\n",
        "from train import run_epoch, train\n",
        "\n",
        "import torch\n",
        "import torch.nn as nn\n",
        "import torch.nn.functional as F"
      ],
      "execution_count": 0,
      "outputs": []
    },
    {
      "cell_type": "markdown",
      "metadata": {
        "id": "-BiElxB55n7d",
        "colab_type": "text"
      },
      "source": [
        "# Т.к. данные их, то выглядит всё так: у нас 3 основных словаря: \n",
        "* словарь всех слов в листах\n",
        "* словарь всех путей(они уже хешированы и переведены в цифры)\n",
        "* словарь таргетов(названий методов)\n"
      ]
    },
    {
      "cell_type": "code",
      "metadata": {
        "id": "3BunJzhfZ_jd",
        "colab_type": "code",
        "colab": {}
      },
      "source": [
        "dict_path = '../data/java-small/java-small.dict.c2v'\n",
        "word2idx, path2idx, target2idx, idx2target = create_vocab.create_vocab(dict_path)"
      ],
      "execution_count": 0,
      "outputs": []
    },
    {
      "cell_type": "markdown",
      "metadata": {
        "id": "OUJ5hZCS_DnF",
        "colab_type": "text"
      },
      "source": [
        "* 1) data_iterator Возвращает по 100 батчей(размер можно поменять при вызове функции)\n",
        "* 2) снизу можете видеть как идёт обращение к данным, далее в модель подаются 3 вектора(соррри за такие названия, думаю по аргументам модели поймёте что на выходе)\n",
        "* 3) ну на выходе у нас code_vector и второй вектор - вероятностей распределения между всеми labels в target_vocab(словарь имен методов) "
      ]
    },
    {
      "cell_type": "code",
      "metadata": {
        "id": "WctOcjFevCYv",
        "colab_type": "code",
        "colab": {}
      },
      "source": [
        "path_for_train = '../data/java-small/java-small.train.c2v'\n",
        "train_iterator = data_to_tensors.DatasetBuilder(path_for_train, \n",
        "                                                    word2idx, \n",
        "                                                    path2idx, \n",
        "                                                    target2idx, batch_size = 10)\n",
        "\n",
        "path_for_val = '../data/java-small/java-small.val.c2v'\n",
        "val_iterator = data_to_tensors.DatasetBuilder(path_for_val, \n",
        "                                                    word2idx, \n",
        "                                                    path2idx, \n",
        "                                                    target2idx, batch_size = 100)"
      ],
      "execution_count": 0,
      "outputs": []
    },
    {
      "cell_type": "markdown",
      "metadata": {
        "id": "rQx0PLsMopZ1",
        "colab_type": "text"
      },
      "source": [
        "# Train"
      ]
    },
    {
      "cell_type": "code",
      "metadata": {
        "id": "DGiy8Phzhk3w",
        "colab_type": "code",
        "colab": {
          "base_uri": "https://localhost:8080/",
          "height": 34
        },
        "outputId": "a2fd1351-c056-44a5-8234-4c6fc1eca4fc"
      },
      "source": [
        "import torch\n",
        "import torch.nn as nn\n",
        "from torch.nn import functional as F\n",
        "import random \n",
        "\n",
        "SEED = 1234\n",
        "random.seed(SEED)\n",
        "torch.manual_seed(SEED)\n",
        "torch.cuda.manual_seed(SEED)\n",
        "torch.backends.cudnn.deterministic = True\n",
        "\n",
        "DEVICE = torch.device(\"cuda:0\" if torch.cuda.is_available() else \"cpu\")\n",
        "print(DEVICE)"
      ],
      "execution_count": 12,
      "outputs": [
        {
          "output_type": "stream",
          "text": [
            "cuda:0\n"
          ],
          "name": "stdout"
        }
      ]
    },
    {
      "cell_type": "code",
      "metadata": {
        "id": "UUd5Yv3fmrBQ",
        "colab_type": "code",
        "colab": {}
      },
      "source": [
        "model = model_implementation.code2vec_model(values_vocab_size = len(word2idx), \n",
        "                             paths_vocab_size = len(path2idx), \n",
        "                             labels_num = len(target2idx))"
      ],
      "execution_count": 0,
      "outputs": []
    },
    {
      "cell_type": "code",
      "metadata": {
        "id": "CPVWRPDmmyUQ",
        "colab_type": "code",
        "colab": {
          "base_uri": "https://localhost:8080/",
          "height": 659
        },
        "outputId": "481e8329-b52f-4831-8020-0131d6524a8c"
      },
      "source": [
        "N_EPOCHS = 500\n",
        "LR = 1e-3\n",
        "\n",
        "optimizer = torch.optim.Adam(model.parameters(), lr=LR)\n",
        "criterion = nn.CrossEntropyLoss().to(DEVICE)\n",
        "\n",
        "early_stop = False # ставите True и тогда будет обучение ток для одного батча\n",
        "list_train_loss, list_val_loss, list_train_precision, list_val_precision,list_train_recall, list_val_recall, list_train_f1, list_val_f1 = train(model = model, optimizer = optimizer,\n",
        "                                                                                                                                                criterion = criterion, train_loader = train_iterator,\n",
        "                                                                                                                                                val_loader = val_iterator,\n",
        "                                                                                                                                                epochs = N_EPOCHS, idx2target_vocab = idx2target, scheduler=None, checkpoint=True, early_stop = early_stop)"
      ],
      "execution_count": 15,
      "outputs": [
        {
          "output_type": "stream",
          "text": [
            "Epoch 1: train loss - 1.11085, validation loss - 0.12244\n",
            "\t precision - 0.00034, recall - 0.00087, f1_score - 0.00049\n",
            "----------------------------------------------------------------------\n",
            "Epoch 2: train loss - 1.05526, validation loss - 0.12241\n",
            "\t precision - 0.00036, recall - 0.0008, f1_score - 0.0005\n",
            "----------------------------------------------------------------------\n",
            "Epoch 3: train loss - 1.02359, validation loss - 0.12242\n",
            "\t precision - 0.00029, recall - 0.00058, f1_score - 0.00039\n",
            "----------------------------------------------------------------------\n",
            "Epoch 4: train loss - 0.98064, validation loss - 0.12244\n",
            "\t precision - 0.00029, recall - 0.00051, f1_score - 0.00037\n",
            "----------------------------------------------------------------------\n",
            "Epoch 5: train loss - 0.95607, validation loss - 0.12246\n",
            "\t precision - 0.00028, recall - 0.00043, f1_score - 0.00034\n",
            "----------------------------------------------------------------------\n",
            "Epoch 6: train loss - 0.90104, validation loss - 0.12248\n",
            "\t precision - 0.00031, recall - 0.00043, f1_score - 0.00036\n",
            "----------------------------------------------------------------------\n"
          ],
          "name": "stdout"
        },
        {
          "output_type": "error",
          "ename": "KeyboardInterrupt",
          "evalue": "ignored",
          "traceback": [
            "\u001b[0;31m---------------------------------------------------------------------------\u001b[0m",
            "\u001b[0;31mKeyboardInterrupt\u001b[0m                         Traceback (most recent call last)",
            "\u001b[0;32m<ipython-input-15-fa314dc611f7>\u001b[0m in \u001b[0;36m<module>\u001b[0;34m()\u001b[0m\n\u001b[1;32m      8\u001b[0m                                                                                                                                                 \u001b[0mcriterion\u001b[0m \u001b[0;34m=\u001b[0m \u001b[0mcriterion\u001b[0m\u001b[0;34m,\u001b[0m \u001b[0mtrain_loader\u001b[0m \u001b[0;34m=\u001b[0m \u001b[0mtrain_iterator\u001b[0m\u001b[0;34m,\u001b[0m\u001b[0;34m\u001b[0m\u001b[0;34m\u001b[0m\u001b[0m\n\u001b[1;32m      9\u001b[0m                                                                                                                                                 \u001b[0mval_loader\u001b[0m \u001b[0;34m=\u001b[0m \u001b[0mval_iterator\u001b[0m\u001b[0;34m,\u001b[0m\u001b[0;34m\u001b[0m\u001b[0;34m\u001b[0m\u001b[0m\n\u001b[0;32m---> 10\u001b[0;31m                                                                                                                                                 epochs = N_EPOCHS, idx2target_vocab = idx2target, scheduler=None, checkpoint=True, early_stop = True)\n\u001b[0m",
            "\u001b[0;32m/content/DL_project_skoltech/train.py\u001b[0m in \u001b[0;36mtrain\u001b[0;34m(model, optimizer, criterion, train_loader, val_loader, epochs, idx2target_vocab, scheduler, checkpoint, early_stop)\u001b[0m\n\u001b[1;32m     63\u001b[0m \u001b[0;34m\u001b[0m\u001b[0m\n\u001b[1;32m     64\u001b[0m         \u001b[0mtrain_loss\u001b[0m\u001b[0;34m,\u001b[0m \u001b[0mtrain_precision\u001b[0m\u001b[0;34m,\u001b[0m \u001b[0mtrain_recall\u001b[0m\u001b[0;34m,\u001b[0m \u001b[0mtrain_f1\u001b[0m \u001b[0;34m=\u001b[0m \u001b[0mrun_epoch\u001b[0m\u001b[0;34m(\u001b[0m\u001b[0mmodel\u001b[0m\u001b[0;34m,\u001b[0m \u001b[0moptimizer\u001b[0m\u001b[0;34m,\u001b[0m \u001b[0mcriterion\u001b[0m\u001b[0;34m,\u001b[0m \u001b[0mtrain_loader\u001b[0m\u001b[0;34m,\u001b[0m \u001b[0mepoch\u001b[0m\u001b[0;34m,\u001b[0m\u001b[0midx2target_vocab\u001b[0m\u001b[0;34m,\u001b[0m \u001b[0mmode\u001b[0m \u001b[0;34m=\u001b[0m \u001b[0;34m'train'\u001b[0m\u001b[0;34m,\u001b[0m \u001b[0mdevice\u001b[0m \u001b[0;34m=\u001b[0m \u001b[0mDEVICE\u001b[0m\u001b[0;34m,\u001b[0m \u001b[0mearly_stop\u001b[0m \u001b[0;34m=\u001b[0m \u001b[0mearly_stop\u001b[0m\u001b[0;34m)\u001b[0m\u001b[0;34m\u001b[0m\u001b[0;34m\u001b[0m\u001b[0m\n\u001b[0;32m---> 65\u001b[0;31m         \u001b[0mval_loss\u001b[0m\u001b[0;34m,\u001b[0m \u001b[0mval_precision\u001b[0m\u001b[0;34m,\u001b[0m \u001b[0mval_recall\u001b[0m\u001b[0;34m,\u001b[0m \u001b[0mval_f1\u001b[0m \u001b[0;34m=\u001b[0m \u001b[0mrun_epoch\u001b[0m\u001b[0;34m(\u001b[0m\u001b[0mmodel\u001b[0m\u001b[0;34m,\u001b[0m \u001b[0;32mNone\u001b[0m\u001b[0;34m,\u001b[0m \u001b[0mcriterion\u001b[0m\u001b[0;34m,\u001b[0m \u001b[0mval_loader\u001b[0m\u001b[0;34m,\u001b[0m \u001b[0mepoch\u001b[0m\u001b[0;34m,\u001b[0m \u001b[0midx2target_vocab\u001b[0m\u001b[0;34m,\u001b[0m \u001b[0mmode\u001b[0m \u001b[0;34m=\u001b[0m \u001b[0;34m'val'\u001b[0m\u001b[0;34m,\u001b[0m \u001b[0mdevice\u001b[0m \u001b[0;34m=\u001b[0m \u001b[0mDEVICE\u001b[0m\u001b[0;34m,\u001b[0m \u001b[0mearly_stop\u001b[0m \u001b[0;34m=\u001b[0m \u001b[0mearly_stop\u001b[0m\u001b[0;34m)\u001b[0m\u001b[0;34m\u001b[0m\u001b[0;34m\u001b[0m\u001b[0m\n\u001b[0m\u001b[1;32m     66\u001b[0m \u001b[0;34m\u001b[0m\u001b[0m\n\u001b[1;32m     67\u001b[0m \u001b[0;34m\u001b[0m\u001b[0m\n",
            "\u001b[0;32m/content/DL_project_skoltech/train.py\u001b[0m in \u001b[0;36mrun_epoch\u001b[0;34m(model, optimizer, criterion, dataloader, epoch, idx2target_vocab, mode, device, early_stop)\u001b[0m\n\u001b[1;32m     19\u001b[0m         \u001b[0;32mraise\u001b[0m \u001b[0mRuntimeError\u001b[0m\u001b[0;34m(\u001b[0m\u001b[0;34m'You use a weird type of dataset. It shoulb be DatasetBuilder.'\u001b[0m\u001b[0;34m)\u001b[0m\u001b[0;34m\u001b[0m\u001b[0;34m\u001b[0m\u001b[0m\n\u001b[1;32m     20\u001b[0m \u001b[0;34m\u001b[0m\u001b[0m\n\u001b[0;32m---> 21\u001b[0;31m     \u001b[0;32mfor\u001b[0m \u001b[0mi\u001b[0m\u001b[0;34m,\u001b[0m \u001b[0;34m(\u001b[0m\u001b[0mstarts\u001b[0m\u001b[0;34m,\u001b[0m \u001b[0mcontexts\u001b[0m\u001b[0;34m,\u001b[0m \u001b[0mends\u001b[0m\u001b[0;34m,\u001b[0m \u001b[0mlabels\u001b[0m\u001b[0;34m)\u001b[0m \u001b[0;32min\u001b[0m \u001b[0menumerate\u001b[0m\u001b[0;34m(\u001b[0m\u001b[0mdataloader\u001b[0m\u001b[0;34m.\u001b[0m\u001b[0m_form_tensors\u001b[0m\u001b[0;34m(\u001b[0m\u001b[0;34m)\u001b[0m\u001b[0;34m)\u001b[0m\u001b[0;34m:\u001b[0m\u001b[0;34m\u001b[0m\u001b[0;34m\u001b[0m\u001b[0m\n\u001b[0m\u001b[1;32m     22\u001b[0m \u001b[0;34m\u001b[0m\u001b[0m\n\u001b[1;32m     23\u001b[0m         \u001b[0mstarts\u001b[0m\u001b[0;34m,\u001b[0m \u001b[0mcontexts\u001b[0m\u001b[0;34m,\u001b[0m \u001b[0mends\u001b[0m \u001b[0;34m=\u001b[0m \u001b[0mstarts\u001b[0m\u001b[0;34m.\u001b[0m\u001b[0mto\u001b[0m\u001b[0;34m(\u001b[0m\u001b[0mdevice\u001b[0m\u001b[0;34m)\u001b[0m\u001b[0;34m,\u001b[0m \u001b[0mcontexts\u001b[0m\u001b[0;34m.\u001b[0m\u001b[0mto\u001b[0m\u001b[0;34m(\u001b[0m\u001b[0mdevice\u001b[0m\u001b[0;34m)\u001b[0m\u001b[0;34m,\u001b[0m \u001b[0mends\u001b[0m\u001b[0;34m.\u001b[0m\u001b[0mto\u001b[0m\u001b[0;34m(\u001b[0m\u001b[0mdevice\u001b[0m\u001b[0;34m)\u001b[0m\u001b[0;34m\u001b[0m\u001b[0;34m\u001b[0m\u001b[0m\n",
            "\u001b[0;32m/content/DL_project_skoltech/data_to_tensors.py\u001b[0m in \u001b[0;36m_form_tensors\u001b[0;34m(self)\u001b[0m\n\u001b[1;32m     79\u001b[0m                     \u001b[0mtensor_contexts\u001b[0m \u001b[0;34m=\u001b[0m \u001b[0mtorch\u001b[0m\u001b[0;34m.\u001b[0m\u001b[0mLongTensor\u001b[0m\u001b[0;34m(\u001b[0m\u001b[0mlist_contexts\u001b[0m\u001b[0;34m)\u001b[0m\u001b[0;34m\u001b[0m\u001b[0;34m\u001b[0m\u001b[0m\n\u001b[1;32m     80\u001b[0m                     \u001b[0mtensor_ends\u001b[0m \u001b[0;34m=\u001b[0m \u001b[0mtorch\u001b[0m\u001b[0;34m.\u001b[0m\u001b[0mLongTensor\u001b[0m\u001b[0;34m(\u001b[0m\u001b[0mlist_ends\u001b[0m\u001b[0;34m)\u001b[0m\u001b[0;34m\u001b[0m\u001b[0;34m\u001b[0m\u001b[0m\n\u001b[0;32m---> 81\u001b[0;31m                     \u001b[0mtensor_labels\u001b[0m \u001b[0;34m=\u001b[0m \u001b[0mtorch\u001b[0m\u001b[0;34m.\u001b[0m\u001b[0mLongTensor\u001b[0m\u001b[0;34m(\u001b[0m\u001b[0mlist_labels\u001b[0m\u001b[0;34m)\u001b[0m\u001b[0;34m\u001b[0m\u001b[0;34m\u001b[0m\u001b[0m\n\u001b[0m\u001b[1;32m     82\u001b[0m \u001b[0;34m\u001b[0m\u001b[0m\n\u001b[1;32m     83\u001b[0m                     \u001b[0mlist_starts\u001b[0m \u001b[0;34m=\u001b[0m \u001b[0;34m[\u001b[0m\u001b[0;34m]\u001b[0m\u001b[0;34m\u001b[0m\u001b[0;34m\u001b[0m\u001b[0m\n",
            "\u001b[0;31mKeyboardInterrupt\u001b[0m: "
          ]
        }
      ]
    }
  ]
}