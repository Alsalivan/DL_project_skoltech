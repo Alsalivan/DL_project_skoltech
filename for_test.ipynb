{
  "nbformat": 4,
  "nbformat_minor": 0,
  "metadata": {
    "colab": {
      "name": "for_test.ipynb",
      "provenance": [],
      "collapsed_sections": [],
      "toc_visible": true
    },
    "kernelspec": {
      "name": "python3",
      "display_name": "Python 3"
    },
    "accelerator": "GPU"
  },
  "cells": [
    {
      "cell_type": "markdown",
      "metadata": {
        "id": "KnxLJt_T44VB",
        "colab_type": "text"
      },
      "source": [
        "# Download and unpack data"
      ]
    },
    {
      "cell_type": "code",
      "metadata": {
        "id": "Od2Oc61EyYvb",
        "colab_type": "code",
        "outputId": "52888da5-3e39-4cfe-cca1-97ad815c8609",
        "colab": {
          "base_uri": "https://localhost:8080/",
          "height": 289
        }
      },
      "source": [
        "!mkdir data\n",
        "!wget https://s3.amazonaws.com/code2vec/data/java-small_data.tar.gz\n",
        "!tar -xvzf java-small_data.tar.gz\n",
        "!mv java-small data"
      ],
      "execution_count": 1,
      "outputs": [
        {
          "output_type": "stream",
          "text": [
            "--2020-06-03 00:34:06--  https://s3.amazonaws.com/code2vec/data/java-small_data.tar.gz\n",
            "Resolving s3.amazonaws.com (s3.amazonaws.com)... 52.216.110.245\n",
            "Connecting to s3.amazonaws.com (s3.amazonaws.com)|52.216.110.245|:443... connected.\n",
            "HTTP request sent, awaiting response... 200 OK\n",
            "Length: 382731969 (365M) [application/x-tar]\n",
            "Saving to: ‘java-small_data.tar.gz’\n",
            "\n",
            "java-small_data.tar 100%[===================>] 365.00M  26.0MB/s    in 14s     \n",
            "\n",
            "2020-06-03 00:34:20 (26.6 MB/s) - ‘java-small_data.tar.gz’ saved [382731969/382731969]\n",
            "\n",
            "java-small/\n",
            "java-small/java-small.dict.c2v\n",
            "java-small/java-small.train.c2v\n",
            "java-small/java-small.val.c2v\n",
            "java-small/java-small.test.c2v\n"
          ],
          "name": "stdout"
        }
      ]
    },
    {
      "cell_type": "markdown",
      "metadata": {
        "id": "N4QMIWS547iw",
        "colab_type": "text"
      },
      "source": [
        "# Load from the github"
      ]
    },
    {
      "cell_type": "code",
      "metadata": {
        "id": "kC1kxjE9ybjl",
        "colab_type": "code",
        "colab": {
          "base_uri": "https://localhost:8080/",
          "height": 136
        },
        "outputId": "c4513330-d92a-47a5-f683-db5db476a245"
      },
      "source": [
        "!git clone --single-branch --branch dataload https://github.com/Leggerla/DL_project_skoltech"
      ],
      "execution_count": 2,
      "outputs": [
        {
          "output_type": "stream",
          "text": [
            "Cloning into 'DL_project_skoltech'...\n",
            "remote: Enumerating objects: 61, done.\u001b[K\n",
            "remote: Counting objects: 100% (61/61), done.\u001b[K\n",
            "remote: Compressing objects: 100% (61/61), done.\u001b[K\n",
            "remote: Total 258 (delta 33), reused 2 (delta 0), pack-reused 197\u001b[K\n",
            "Receiving objects: 100% (258/258), 52.61 KiB | 10.52 MiB/s, done.\n",
            "Resolving deltas: 100% (145/145), done.\n"
          ],
          "name": "stdout"
        }
      ]
    },
    {
      "cell_type": "code",
      "metadata": {
        "id": "EhzZ1XIiofJ7",
        "colab_type": "code",
        "colab": {
          "base_uri": "https://localhost:8080/",
          "height": 34
        },
        "outputId": "833c30e5-2c85-46e6-bc38-f5853741231e"
      },
      "source": [
        "cd DL_project_skoltech/"
      ],
      "execution_count": 3,
      "outputs": [
        {
          "output_type": "stream",
          "text": [
            "/content/DL_project_skoltech\n"
          ],
          "name": "stdout"
        }
      ]
    },
    {
      "cell_type": "markdown",
      "metadata": {
        "id": "mECUxIi85Cg9",
        "colab_type": "text"
      },
      "source": [
        "# Import our modules and torch\n"
      ]
    },
    {
      "cell_type": "code",
      "metadata": {
        "id": "PK_PH-Wr0LAL",
        "colab_type": "code",
        "colab": {}
      },
      "source": [
        "import create_vocab\n",
        "import data_to_tensors\n",
        "import model_implementation\n",
        "from train import *\n",
        "\n",
        "import torch\n",
        "import torch.nn as nn\n",
        "import torch.nn.functional as F\n",
        "\n",
        "from torch.utils.data import * "
      ],
      "execution_count": 0,
      "outputs": []
    },
    {
      "cell_type": "markdown",
      "metadata": {
        "id": "-BiElxB55n7d",
        "colab_type": "text"
      },
      "source": [
        "# Because their data looks like this: we have 3 main dictionaries:\n",
        "* dictionary of all words in the sheets\n",
        "* dictionary of all paths(they are already hashed and converted to digits)\n",
        "* dictionary of targets(method names)\n"
      ]
    },
    {
      "cell_type": "code",
      "metadata": {
        "id": "3BunJzhfZ_jd",
        "colab_type": "code",
        "colab": {}
      },
      "source": [
        "dict_path = '../data/java-small/java-small.dict.c2v'\n",
        "word2idx, path2idx, target2idx, idx2target = create_vocab.create_vocab(dict_path)"
      ],
      "execution_count": 0,
      "outputs": []
    },
    {
      "cell_type": "markdown",
      "metadata": {
        "id": "OUJ5hZCS_DnF",
        "colab_type": "text"
      },
      "source": [
        "* 1) data_iterator Returns 100 batches each(the size can be changed when calling the function)\n",
        "* 2) from below you can see how the data is accessed, then 3 vectors are fed to the model(sorry for such names, I think you will understand from the arguments of the model that the output is)\n",
        "* 3) well, at the output we have code_vector and the second vector-probability distribution between all labels in target_vocab(dictionary of method names)"
      ]
    },
    {
      "cell_type": "code",
      "metadata": {
        "id": "WctOcjFevCYv",
        "colab_type": "code",
        "colab": {}
      },
      "source": [
        "path_for_train = '../data/java-small/java-small.train.c2v'\n",
        "train_dataset = data_to_tensors.TextDataset(path_for_train, \n",
        "                                                    word2idx, \n",
        "                                                    path2idx, \n",
        "                                                    target2idx)\n",
        "\n",
        "path_for_val = '../data/java-small/java-small.val.c2v'\n",
        "val_dataset = data_to_tensors.TextDataset(path_for_val, \n",
        "                                                    word2idx, \n",
        "                                                    path2idx, \n",
        "                                                    target2idx)\n",
        "\n",
        "train_loader = DataLoader(train_dataset, batch_size=1024, shuffle=True)\n",
        "val_loader = DataLoader(val_dataset, batch_size=1024, shuffle=False)"
      ],
      "execution_count": 0,
      "outputs": []
    },
    {
      "cell_type": "markdown",
      "metadata": {
        "id": "rQx0PLsMopZ1",
        "colab_type": "text"
      },
      "source": [
        "# Train"
      ]
    },
    {
      "cell_type": "code",
      "metadata": {
        "id": "DGiy8Phzhk3w",
        "colab_type": "code",
        "colab": {
          "base_uri": "https://localhost:8080/",
          "height": 34
        },
        "outputId": "d93501ae-6a76-4622-a221-9258bcdf67f2"
      },
      "source": [
        "import torch\n",
        "import torch.nn as nn\n",
        "from torch.nn import functional as F\n",
        "import random \n",
        "\n",
        "SEED = 1234\n",
        "random.seed(SEED)\n",
        "torch.manual_seed(SEED)\n",
        "torch.cuda.manual_seed(SEED)\n",
        "torch.backends.cudnn.deterministic = True\n",
        "\n",
        "DEVICE = torch.device(\"cuda:0\" if torch.cuda.is_available() else \"cpu\")\n",
        "print(DEVICE)"
      ],
      "execution_count": 13,
      "outputs": [
        {
          "output_type": "stream",
          "text": [
            "cuda:0\n"
          ],
          "name": "stdout"
        }
      ]
    },
    {
      "cell_type": "code",
      "metadata": {
        "id": "UUd5Yv3fmrBQ",
        "colab_type": "code",
        "colab": {}
      },
      "source": [
        "model = model_implementation.code2vec_model(values_vocab_size = len(word2idx), \n",
        "                             paths_vocab_size = len(path2idx), \n",
        "                             labels_num = len(target2idx))"
      ],
      "execution_count": 0,
      "outputs": []
    },
    {
      "cell_type": "code",
      "metadata": {
        "id": "CPVWRPDmmyUQ",
        "colab_type": "code",
        "colab": {
          "base_uri": "https://localhost:8080/",
          "height": 1000
        },
        "outputId": "7dd2eb09-f960-4fc0-d8e9-5f5ff404a337"
      },
      "source": [
        "N_EPOCHS = 1000\n",
        "LR = 1e-4\n",
        "\n",
        "optimizer = torch.optim.Adam(model.parameters(), lr=LR)\n",
        "criterion = nn.CrossEntropyLoss().to(DEVICE)\n",
        "\n",
        "early_stop = False # ставите True и тогда будет обучение ток для одного батча\n",
        "list_train_loss, list_val_loss, list_train_precision, list_val_precision,list_train_recall, list_val_recall, list_train_f1, list_val_f1 = train(model = model, optimizer = optimizer,\n",
        "                                                                                                                                                criterion = criterion, train_loader = train_loader,\n",
        "                                                                                                                                                val_loader = val_loader,\n",
        "                                                                                                                                                epochs = N_EPOCHS, idx2target_vocab = idx2target, \n",
        "                                                                                                                                                scheduler=None, checkpoint=True, early_stop = early_stop)"
      ],
      "execution_count": 0,
      "outputs": [
        {
          "output_type": "stream",
          "text": [
            "1th epoch processed in 214.070\n",
            "Epoch 1: train loss - 11.20019, validation loss - 12.31062\n",
            "\t precision - 0.00411, recall - 0.0034, f1_score - 0.00372\n",
            "----------------------------------------------------------------------\n",
            "2th epoch processed in 209.883\n",
            "Epoch 2: train loss - 10.2799, validation loss - 12.7469\n",
            "\t precision - 0.02662, recall - 0.02576, f1_score - 0.02618\n",
            "----------------------------------------------------------------------\n",
            "3th epoch processed in 209.701\n",
            "Epoch 3: train loss - 9.99948, validation loss - 13.00541\n",
            "\t precision - 0.03739, recall - 0.04031, f1_score - 0.0388\n",
            "----------------------------------------------------------------------\n",
            "4th epoch processed in 210.010\n",
            "Epoch 4: train loss - 9.74964, validation loss - 13.19532\n",
            "\t precision - 0.0355, recall - 0.04171, f1_score - 0.03836\n",
            "----------------------------------------------------------------------\n",
            "5th epoch processed in 209.207\n",
            "Epoch 5: train loss - 9.52889, validation loss - 13.3776\n",
            "\t precision - 0.03555, recall - 0.04525, f1_score - 0.03982\n",
            "----------------------------------------------------------------------\n",
            "6th epoch processed in 209.165\n",
            "Epoch 6: train loss - 9.33577, validation loss - 13.56157\n",
            "\t precision - 0.04395, recall - 0.05934, f1_score - 0.0505\n",
            "----------------------------------------------------------------------\n",
            "7th epoch processed in 209.592\n",
            "Epoch 7: train loss - 9.16256, validation loss - 13.74658\n",
            "\t precision - 0.0425, recall - 0.0598, f1_score - 0.04969\n",
            "----------------------------------------------------------------------\n",
            "8th epoch processed in 212.686\n",
            "Epoch 8: train loss - 9.00629, validation loss - 13.88778\n",
            "\t precision - 0.05359, recall - 0.07603, f1_score - 0.06287\n",
            "----------------------------------------------------------------------\n",
            "9th epoch processed in 212.338\n",
            "Epoch 9: train loss - 8.86251, validation loss - 14.04984\n",
            "\t precision - 0.05179, recall - 0.07368, f1_score - 0.06083\n",
            "----------------------------------------------------------------------\n",
            "10th epoch processed in 211.762\n",
            "Epoch 10: train loss - 8.73237, validation loss - 14.1855\n",
            "\t precision - 0.05395, recall - 0.07592, f1_score - 0.06308\n",
            "----------------------------------------------------------------------\n",
            "11th epoch processed in 213.296\n",
            "Epoch 11: train loss - 8.61077, validation loss - 14.29892\n",
            "\t precision - 0.05735, recall - 0.08195, f1_score - 0.06748\n",
            "----------------------------------------------------------------------\n",
            "12th epoch processed in 213.763\n",
            "Epoch 12: train loss - 8.49863, validation loss - 14.43146\n",
            "\t precision - 0.05664, recall - 0.08185, f1_score - 0.06695\n",
            "----------------------------------------------------------------------\n",
            "13th epoch processed in 213.620\n",
            "Epoch 13: train loss - 8.39426, validation loss - 14.58686\n",
            "\t precision - 0.05795, recall - 0.08325, f1_score - 0.06834\n",
            "----------------------------------------------------------------------\n",
            "14th epoch processed in 213.581\n",
            "Epoch 14: train loss - 8.29389, validation loss - 14.71862\n",
            "\t precision - 0.06006, recall - 0.08602, f1_score - 0.07073\n",
            "----------------------------------------------------------------------\n",
            "15th epoch processed in 210.590\n",
            "Epoch 15: train loss - 8.20035, validation loss - 14.82338\n",
            "\t precision - 0.06336, recall - 0.0857, f1_score - 0.07285\n",
            "----------------------------------------------------------------------\n",
            "16th epoch processed in 209.127\n",
            "Epoch 16: train loss - 8.11068, validation loss - 14.92058\n",
            "\t precision - 0.06458, recall - 0.08728, f1_score - 0.07423\n",
            "----------------------------------------------------------------------\n",
            "17th epoch processed in 208.373\n",
            "Epoch 17: train loss - 8.02454, validation loss - 15.04391\n",
            "\t precision - 0.06521, recall - 0.09012, f1_score - 0.07567\n",
            "----------------------------------------------------------------------\n",
            "18th epoch processed in 208.885\n",
            "Epoch 18: train loss - 7.94278, validation loss - 15.11529\n",
            "\t precision - 0.0651, recall - 0.08802, f1_score - 0.07484\n",
            "----------------------------------------------------------------------\n"
          ],
          "name": "stdout"
        }
      ]
    },
    {
      "cell_type": "code",
      "metadata": {
        "id": "W42d-VljpsYd",
        "colab_type": "code",
        "colab": {}
      },
      "source": [
        ""
      ],
      "execution_count": 0,
      "outputs": []
    }
  ]
}