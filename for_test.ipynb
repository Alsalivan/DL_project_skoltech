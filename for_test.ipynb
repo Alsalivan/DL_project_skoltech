{
  "nbformat": 4,
  "nbformat_minor": 0,
  "metadata": {
    "colab": {
      "name": "for_test.ipynb",
      "provenance": [],
      "collapsed_sections": [],
      "toc_visible": true
    },
    "kernelspec": {
      "name": "python3",
      "display_name": "Python 3"
    },
    "accelerator": "GPU"
  },
  "cells": [
    {
      "cell_type": "markdown",
      "metadata": {
        "id": "KnxLJt_T44VB",
        "colab_type": "text"
      },
      "source": [
        "# Download and unpack data"
      ]
    },
    {
      "cell_type": "code",
      "metadata": {
        "id": "Od2Oc61EyYvb",
        "colab_type": "code",
        "outputId": "eee10a5e-7fe5-4104-bca6-e884c5146757",
        "colab": {
          "base_uri": "https://localhost:8080/",
          "height": 286
        }
      },
      "source": [
        "!mkdir data\n",
        "!wget https://s3.amazonaws.com/code2vec/data/java-small_data.tar.gz\n",
        "!tar -xvzf java-small_data.tar.gz\n",
        "!mv java-small data"
      ],
      "execution_count": 1,
      "outputs": [
        {
          "output_type": "stream",
          "text": [
            "--2020-06-02 16:23:14--  https://s3.amazonaws.com/code2vec/data/java-small_data.tar.gz\n",
            "Resolving s3.amazonaws.com (s3.amazonaws.com)... 52.216.93.229\n",
            "Connecting to s3.amazonaws.com (s3.amazonaws.com)|52.216.93.229|:443... connected.\n",
            "HTTP request sent, awaiting response... 200 OK\n",
            "Length: 382731969 (365M) [application/x-tar]\n",
            "Saving to: ‘java-small_data.tar.gz’\n",
            "\n",
            "java-small_data.tar 100%[===================>] 365.00M  31.7MB/s    in 13s     \n",
            "\n",
            "2020-06-02 16:23:27 (28.9 MB/s) - ‘java-small_data.tar.gz’ saved [382731969/382731969]\n",
            "\n",
            "java-small/\n",
            "java-small/java-small.dict.c2v\n",
            "java-small/java-small.train.c2v\n",
            "java-small/java-small.val.c2v\n",
            "java-small/java-small.test.c2v\n"
          ],
          "name": "stdout"
        }
      ]
    },
    {
      "cell_type": "markdown",
      "metadata": {
        "id": "N4QMIWS547iw",
        "colab_type": "text"
      },
      "source": [
        "# Load from the github"
      ]
    },
    {
      "cell_type": "code",
      "metadata": {
        "id": "kC1kxjE9ybjl",
        "colab_type": "code",
        "outputId": "c5378996-99c0-4431-832d-0878de08a5c4",
        "colab": {
          "base_uri": "https://localhost:8080/",
          "height": 134
        }
      },
      "source": [
        "!git clone https://github.com/Vitaly-Protasov/DL_project_skoltech"
      ],
      "execution_count": 2,
      "outputs": [
        {
          "output_type": "stream",
          "text": [
            "Cloning into 'DL_project_skoltech'...\n",
            "remote: Enumerating objects: 135, done.\u001b[K\n",
            "remote: Counting objects: 100% (135/135), done.\u001b[K\n",
            "remote: Compressing objects: 100% (99/99), done.\u001b[K\n",
            "remote: Total 135 (delta 75), reused 88 (delta 35), pack-reused 0\u001b[K\n",
            "Receiving objects: 100% (135/135), 28.55 KiB | 811.00 KiB/s, done.\n",
            "Resolving deltas: 100% (75/75), done.\n"
          ],
          "name": "stdout"
        }
      ]
    },
    {
      "cell_type": "code",
      "metadata": {
        "id": "EhzZ1XIiofJ7",
        "colab_type": "code",
        "colab": {
          "base_uri": "https://localhost:8080/",
          "height": 34
        },
        "outputId": "4a7df941-720e-4342-dd89-f20508cdd8e3"
      },
      "source": [
        "cd DL_project_skoltech/"
      ],
      "execution_count": 3,
      "outputs": [
        {
          "output_type": "stream",
          "text": [
            "/content/DL_project_skoltech\n"
          ],
          "name": "stdout"
        }
      ]
    },
    {
      "cell_type": "markdown",
      "metadata": {
        "id": "mECUxIi85Cg9",
        "colab_type": "text"
      },
      "source": [
        "# Import our modules and torch\n"
      ]
    },
    {
      "cell_type": "code",
      "metadata": {
        "id": "PK_PH-Wr0LAL",
        "colab_type": "code",
        "colab": {}
      },
      "source": [
        "import create_vocab\n",
        "import data_to_tensors\n",
        "import model_implementation\n",
        "from train import run_epoch, train\n",
        "\n",
        "import torch\n",
        "import torch.nn as nn\n",
        "import torch.nn.functional as F"
      ],
      "execution_count": 0,
      "outputs": []
    },
    {
      "cell_type": "markdown",
      "metadata": {
        "id": "-BiElxB55n7d",
        "colab_type": "text"
      },
      "source": [
        "# Because their data looks like this: we have 3 main dictionaries:\n",
        "* dictionary of all words in the sheets\n",
        "* dictionary of all paths(they are already hashed and converted to digits)\n",
        "* dictionary of targets(method names)\n"
      ]
    },
    {
      "cell_type": "code",
      "metadata": {
        "id": "3BunJzhfZ_jd",
        "colab_type": "code",
        "colab": {}
      },
      "source": [
        "dict_path = '../data/java-small/java-small.dict.c2v'\n",
        "word2idx, path2idx, target2idx, idx2target = create_vocab.create_vocab(dict_path)"
      ],
      "execution_count": 0,
      "outputs": []
    },
    {
      "cell_type": "markdown",
      "metadata": {
        "id": "OUJ5hZCS_DnF",
        "colab_type": "text"
      },
      "source": [
        "* 1) data_iterator Returns 100 batches each(the size can be changed when calling the function)\n",
        "* 2) from below you can see how the data is accessed, then 3 vectors are fed to the model(sorry for such names, I think you will understand from the arguments of the model that the output is)\n",
        "* 3) well, at the output we have code_vector and the second vector-probability distribution between all labels in target_vocab(dictionary of method names)"
      ]
    },
    {
      "cell_type": "code",
      "metadata": {
        "id": "WctOcjFevCYv",
        "colab_type": "code",
        "colab": {}
      },
      "source": [
        "path_for_train = '../data/java-small/java-small.train.c2v'\n",
        "train_iterator = data_to_tensors.DatasetBuilder(path_for_train, \n",
        "                                                    word2idx, \n",
        "                                                    path2idx, \n",
        "                                                    target2idx, batch_size = 1024)\n",
        "\n",
        "path_for_val = '../data/java-small/java-small.val.c2v'\n",
        "val_iterator = data_to_tensors.DatasetBuilder(path_for_val, \n",
        "                                                    word2idx, \n",
        "                                                    path2idx, \n",
        "                                                    target2idx, batch_size = 1024)"
      ],
      "execution_count": 0,
      "outputs": []
    },
    {
      "cell_type": "markdown",
      "metadata": {
        "id": "rQx0PLsMopZ1",
        "colab_type": "text"
      },
      "source": [
        "# Train"
      ]
    },
    {
      "cell_type": "code",
      "metadata": {
        "id": "DGiy8Phzhk3w",
        "colab_type": "code",
        "colab": {
          "base_uri": "https://localhost:8080/",
          "height": 34
        },
        "outputId": "db427aa9-9058-4659-f1ad-03e096bef12f"
      },
      "source": [
        "import torch\n",
        "import torch.nn as nn\n",
        "from torch.nn import functional as F\n",
        "import random \n",
        "\n",
        "SEED = 1234\n",
        "random.seed(SEED)\n",
        "torch.manual_seed(SEED)\n",
        "torch.cuda.manual_seed(SEED)\n",
        "torch.backends.cudnn.deterministic = True\n",
        "\n",
        "DEVICE = torch.device(\"cuda:0\" if torch.cuda.is_available() else \"cpu\")\n",
        "print(DEVICE)"
      ],
      "execution_count": 7,
      "outputs": [
        {
          "output_type": "stream",
          "text": [
            "cuda:0\n"
          ],
          "name": "stdout"
        }
      ]
    },
    {
      "cell_type": "code",
      "metadata": {
        "id": "UUd5Yv3fmrBQ",
        "colab_type": "code",
        "colab": {}
      },
      "source": [
        "model = model_implementation.code2vec_model(values_vocab_size = len(word2idx), \n",
        "                             paths_vocab_size = len(path2idx), \n",
        "                             labels_num = len(target2idx))"
      ],
      "execution_count": 0,
      "outputs": []
    },
    {
      "cell_type": "code",
      "metadata": {
        "id": "CPVWRPDmmyUQ",
        "colab_type": "code",
        "colab": {}
      },
      "source": [
        "N_EPOCHS = 10\n",
        "LR = 1e-4\n",
        "\n",
        "optimizer = torch.optim.Adam(model.parameters(), lr=LR)\n",
        "criterion = nn.CrossEntropyLoss().to(DEVICE)\n",
        "\n",
        "early_stop = False # ставите True и тогда будет обучение ток для одного батча\n",
        "list_train_loss, list_val_loss, list_train_precision, list_val_precision,list_train_recall, list_val_recall, list_train_f1, list_val_f1 = train(model = model, optimizer = optimizer,\n",
        "                                                                                                                                                criterion = criterion, train_loader = train_iterator,\n",
        "                                                                                                                                                val_loader = val_iterator,\n",
        "                                                                                                                                                epochs = N_EPOCHS, idx2target_vocab = idx2target, \n",
        "                                                                                                                                                scheduler=None, checkpoint=True, early_stop = early_stop)"
      ],
      "execution_count": 0,
      "outputs": []
    },
    {
      "cell_type": "code",
      "metadata": {
        "id": "W42d-VljpsYd",
        "colab_type": "code",
        "colab": {}
      },
      "source": [
        ""
      ],
      "execution_count": 0,
      "outputs": []
    }
  ]
}