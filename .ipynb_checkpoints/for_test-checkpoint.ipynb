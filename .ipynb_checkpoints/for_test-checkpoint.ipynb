{
 "cells": [
  {
   "cell_type": "code",
   "execution_count": 1,
   "metadata": {
    "colab": {
     "base_uri": "https://localhost:8080/",
     "height": 255
    },
    "colab_type": "code",
    "id": "Ms1tmZcz41iO",
    "outputId": "6717d8b4-67da-4e9e-e3ef-e9fb22bac75e"
   },
   "outputs": [
    {
     "name": "stdout",
     "output_type": "stream",
     "text": [
      "Collecting gputil\n",
      "  Downloading https://files.pythonhosted.org/packages/ed/0e/5c61eedde9f6c87713e89d794f01e378cfd9565847d4576fa627d758c554/GPUtil-1.4.0.tar.gz\n",
      "Building wheels for collected packages: gputil\n",
      "  Building wheel for gputil (setup.py) ... \u001b[?25l\u001b[?25hdone\n",
      "  Created wheel for gputil: filename=GPUtil-1.4.0-cp36-none-any.whl size=7413 sha256=7bf91028f77b08305c4b608dc89242222ff61382d253c2a1a4efd867335936bb\n",
      "  Stored in directory: /root/.cache/pip/wheels/3d/77/07/80562de4bb0786e5ea186911a2c831fdd0018bda69beab71fd\n",
      "Successfully built gputil\n",
      "Installing collected packages: gputil\n",
      "Successfully installed gputil-1.4.0\n",
      "Requirement already satisfied: psutil in /usr/local/lib/python3.6/dist-packages (5.4.8)\n",
      "Requirement already satisfied: humanize in /usr/local/lib/python3.6/dist-packages (0.5.1)\n",
      "Gen RAM Free: 12.8 GB  | Proc size: 158.9 MB\n",
      "GPU RAM Free: 11441MB | Used: 0MB | Util   0% | Total 11441MB\n"
     ]
    }
   ],
   "source": [
    "# memory footprint support libraries/code\n",
    "!ln -sf /opt/bin/nvidia-smi /usr/bin/nvidia-smi\n",
    "!pip install gputil\n",
    "!pip install psutil\n",
    "!pip install humanize\n",
    "import psutil\n",
    "import humanize\n",
    "import os\n",
    "import GPUtil as GPU\n",
    "GPUs = GPU.getGPUs()\n",
    "# XXX: only one GPU on Colab and isn’t guaranteed\n",
    "gpu = GPUs[0]\n",
    "def printm():\n",
    " process = psutil.Process(os.getpid())\n",
    " print(\"Gen RAM Free: \" + humanize.naturalsize( psutil.virtual_memory().available ), \" | Proc size: \" + humanize.naturalsize( process.memory_info().rss))\n",
    " print(\"GPU RAM Free: {0:.0f}MB | Used: {1:.0f}MB | Util {2:3.0f}% | Total {3:.0f}MB\".format(gpu.memoryFree, gpu.memoryUsed, gpu.memoryUtil*100, gpu.memoryTotal))\n",
    "printm() "
   ]
  },
  {
   "cell_type": "markdown",
   "metadata": {
    "colab_type": "text",
    "id": "N4QMIWS547iw"
   },
   "source": [
    "# Load from the github"
   ]
  },
  {
   "cell_type": "code",
   "execution_count": 2,
   "metadata": {
    "colab": {
     "base_uri": "https://localhost:8080/",
     "height": 134
    },
    "colab_type": "code",
    "id": "kC1kxjE9ybjl",
    "outputId": "eedf5b77-8e2c-4d4c-e1e2-ee2fe174bbcf"
   },
   "outputs": [
    {
     "name": "stdout",
     "output_type": "stream",
     "text": [
      "Cloning into 'DL_project_skoltech'...\n",
      "remote: Enumerating objects: 66, done.\u001b[K\n",
      "remote: Counting objects: 100% (66/66), done.\u001b[K\n",
      "remote: Compressing objects: 100% (66/66), done.\u001b[K\n",
      "remote: Total 263 (delta 34), reused 2 (delta 0), pack-reused 197\u001b[K\n",
      "Receiving objects: 100% (263/263), 57.81 KiB | 2.63 MiB/s, done.\n",
      "Resolving deltas: 100% (146/146), done.\n"
     ]
    }
   ],
   "source": [
    "!git clone https://github.com/Vitaly-Protasov/DL_project_skoltech"
   ]
  },
  {
   "cell_type": "code",
   "execution_count": 3,
   "metadata": {
    "colab": {
     "base_uri": "https://localhost:8080/",
     "height": 34
    },
    "colab_type": "code",
    "id": "EhzZ1XIiofJ7",
    "outputId": "5e8e654a-a298-4a01-becd-20448371fec7"
   },
   "outputs": [
    {
     "name": "stdout",
     "output_type": "stream",
     "text": [
      "/content/DL_project_skoltech\n"
     ]
    }
   ],
   "source": [
    "cd DL_project_skoltech/"
   ]
  },
  {
   "cell_type": "markdown",
   "metadata": {
    "colab_type": "text",
    "id": "Djjc-tjuMhhu"
   },
   "source": [
    "# Download data"
   ]
  },
  {
   "cell_type": "code",
   "execution_count": 4,
   "metadata": {
    "colab": {
     "base_uri": "https://localhost:8080/",
     "height": 286
    },
    "colab_type": "code",
    "id": "Lp4neYWhMUHQ",
    "outputId": "5163734d-f39c-4c04-c815-6f513049b0db"
   },
   "outputs": [
    {
     "name": "stdout",
     "output_type": "stream",
     "text": [
      "--2020-06-03 07:00:41--  https://s3.amazonaws.com/code2vec/data/java-small_data.tar.gz\n",
      "Resolving s3.amazonaws.com (s3.amazonaws.com)... 52.216.240.62\n",
      "Connecting to s3.amazonaws.com (s3.amazonaws.com)|52.216.240.62|:443... connected.\n",
      "HTTP request sent, awaiting response... 200 OK\n",
      "Length: 382731969 (365M) [application/x-tar]\n",
      "Saving to: ‘java-small_data.tar.gz’\n",
      "\n",
      "java-small_data.tar 100%[===================>] 365.00M  53.8MB/s    in 6.5s    \n",
      "\n",
      "2020-06-03 07:00:47 (55.8 MB/s) - ‘java-small_data.tar.gz’ saved [382731969/382731969]\n",
      "\n",
      "java-small/\n",
      "java-small/java-small.dict.c2v\n",
      "java-small/java-small.train.c2v\n",
      "java-small/java-small.val.c2v\n",
      "java-small/java-small.test.c2v\n"
     ]
    }
   ],
   "source": [
    "!bash download_data.sh"
   ]
  },
  {
   "cell_type": "markdown",
   "metadata": {
    "colab_type": "text",
    "id": "mECUxIi85Cg9"
   },
   "source": [
    "# Import our modules and torch\n"
   ]
  },
  {
   "cell_type": "code",
   "execution_count": 0,
   "metadata": {
    "colab": {},
    "colab_type": "code",
    "id": "PK_PH-Wr0LAL"
   },
   "outputs": [],
   "source": [
    "import create_vocab\n",
    "import data_to_tensors\n",
    "import model_implementation\n",
    "from train import *\n",
    "\n",
    "import torch\n",
    "import torch.nn as nn\n",
    "import torch.nn.functional as F\n",
    "import random \n",
    "\n",
    "from torch.utils.data import * "
   ]
  },
  {
   "cell_type": "markdown",
   "metadata": {
    "colab_type": "text",
    "id": "-BiElxB55n7d"
   },
   "source": [
    "# Because their data looks like this: we have 3 main dictionaries:\n",
    "* dictionary of all words in the sheets\n",
    "* dictionary of all paths(they are already hashed and converted to digits)\n",
    "* dictionary of targets(method names)\n"
   ]
  },
  {
   "cell_type": "code",
   "execution_count": 0,
   "metadata": {
    "colab": {},
    "colab_type": "code",
    "id": "3BunJzhfZ_jd"
   },
   "outputs": [],
   "source": [
    "dict_path = 'data/java-small/java-small.dict.c2v'\n",
    "word2idx, path2idx, target2idx, idx2target = create_vocab.create_vocab(dict_path)"
   ]
  },
  {
   "cell_type": "markdown",
   "metadata": {
    "colab_type": "text",
    "id": "OUJ5hZCS_DnF"
   },
   "source": [
    "* 1) data_iterator Returns 100 batches each(the size can be changed when calling the function)\n",
    "* 2) from below you can see how the data is accessed, then 3 vectors are fed to the model(sorry for such names, I think you will understand from the arguments of the model that the output is)\n",
    "* 3) well, at the output we have code_vector and the second vector-probability distribution between all labels in target_vocab(dictionary of method names)"
   ]
  },
  {
   "cell_type": "code",
   "execution_count": 0,
   "metadata": {
    "colab": {},
    "colab_type": "code",
    "id": "WctOcjFevCYv"
   },
   "outputs": [],
   "source": [
    "path_for_train = 'data/java-small/java-small.train.c2v'\n",
    "train_dataset = data_to_tensors.TextDataset(path_for_train, \n",
    "                                                    word2idx, \n",
    "                                                    path2idx, \n",
    "                                                    target2idx)\n",
    "\n",
    "path_for_val = 'data/java-small/java-small.val.c2v'\n",
    "val_dataset = data_to_tensors.TextDataset(path_for_val, \n",
    "                                                    word2idx, \n",
    "                                                    path2idx, \n",
    "                                                    target2idx)\n",
    "\n",
    "train_loader = DataLoader(train_dataset, batch_size=1024, shuffle=True)\n",
    "val_loader = DataLoader(val_dataset, batch_size=50, shuffle=False)"
   ]
  },
  {
   "cell_type": "markdown",
   "metadata": {
    "colab_type": "text",
    "id": "rQx0PLsMopZ1"
   },
   "source": [
    "# Train"
   ]
  },
  {
   "cell_type": "code",
   "execution_count": 11,
   "metadata": {
    "colab": {
     "base_uri": "https://localhost:8080/",
     "height": 34
    },
    "colab_type": "code",
    "id": "DGiy8Phzhk3w",
    "outputId": "4de1ac28-7cff-4008-c325-68dc87381d1d"
   },
   "outputs": [
    {
     "name": "stdout",
     "output_type": "stream",
     "text": [
      "cuda:0\n"
     ]
    }
   ],
   "source": [
    "SEED = 1337\n",
    "random.seed(SEED)\n",
    "torch.manual_seed(SEED)\n",
    "torch.cuda.manual_seed(SEED)\n",
    "torch.backends.cudnn.deterministic = True"
   ]
  },
  {
   "cell_type": "code",
   "execution_count": 0,
   "metadata": {
    "colab": {},
    "colab_type": "code",
    "id": "UUd5Yv3fmrBQ"
   },
   "outputs": [],
   "source": [
    "model = model_implementation.code2vec_model(values_vocab_size = len(word2idx), \n",
    "                             paths_vocab_size = len(path2idx), \n",
    "                             labels_num = len(target2idx))"
   ]
  },
  {
   "cell_type": "code",
   "execution_count": 0,
   "metadata": {
    "colab": {},
    "colab_type": "code",
    "id": "CPVWRPDmmyUQ"
   },
   "outputs": [],
   "source": [
    "N_EPOCHS = 100\n",
    "LR = 1e-3\n",
    "\n",
    "optimizer = torch.optim.Adam(model.parameters(), lr=LR, weight_decay=1e-4)\n",
    "criterion = nn.CrossEntropyLoss()\n",
    "\n",
    "early_stop = False # ставите True и тогда будет обучение ток для одного батча\n",
    "list_train_loss, list_val_loss, list_train_precision, list_val_precision,list_train_recall, list_val_recall, list_train_f1, list_val_f1 = train(model = model, optimizer = optimizer,\n",
    "                                                                                                                                                criterion = criterion, train_loader = train_loader,\n",
    "                                                                                                                                                val_loader = val_loader,\n",
    "                                                                                                                                                epochs = N_EPOCHS, idx2target_vocab = idx2target, \n",
    "                                                                                                                                                scheduler=None, checkpoint=True, early_stop = early_stop)"
   ]
  },
  {
   "cell_type": "code",
   "execution_count": 0,
   "metadata": {
    "colab": {},
    "colab_type": "code",
    "id": "W42d-VljpsYd"
   },
   "outputs": [],
   "source": []
  }
 ],
 "metadata": {
  "accelerator": "GPU",
  "colab": {
   "collapsed_sections": [],
   "name": "for_test.ipynb",
   "provenance": [],
   "toc_visible": true
  },
  "kernelspec": {
   "display_name": "Python 3",
   "language": "python",
   "name": "python3"
  },
  "language_info": {
   "codemirror_mode": {
    "name": "ipython",
    "version": 3
   },
   "file_extension": ".py",
   "mimetype": "text/x-python",
   "name": "python",
   "nbconvert_exporter": "python",
   "pygments_lexer": "ipython3",
   "version": "3.7.3"
  }
 },
 "nbformat": 4,
 "nbformat_minor": 1
}
